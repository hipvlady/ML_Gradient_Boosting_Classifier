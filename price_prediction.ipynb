{
 "cells": [
  {
   "cell_type": "code",
   "execution_count": 47,
   "id": "274ec8f0",
   "metadata": {},
   "outputs": [],
   "source": [
    "import pandas as pd\n",
    "import numpy as np\n",
    "import matplotlib.pyplot as plt\n",
    "import seaborn as sns"
   ]
  },
  {
   "cell_type": "code",
   "execution_count": 48,
   "id": "9fcb96e3",
   "metadata": {},
   "outputs": [],
   "source": [
    "import sys\n",
    "sys.path.append('modules')\n",
    "\n",
    "import importlib\n",
    "import data"
   ]
  },
  {
   "cell_type": "code",
   "execution_count": 49,
   "id": "50315d46",
   "metadata": {
    "scrolled": true
   },
   "outputs": [
    {
     "data": {
      "text/plain": [
       "<module 'data' from '/Users/vladparakhin/Documents/GitHub/ML_Gradient_Boosting_Classifier/modules/data.py'>"
      ]
     },
     "execution_count": 49,
     "metadata": {},
     "output_type": "execute_result"
    }
   ],
   "source": [
    "importlib.reload(sys.modules['data'])"
   ]
  },
  {
   "cell_type": "code",
   "execution_count": 50,
   "id": "4acf2bb9",
   "metadata": {},
   "outputs": [],
   "source": [
    "from data import set_filepath, test_loc, percent_missing, display_test"
   ]
  },
  {
   "cell_type": "code",
   "execution_count": 42,
   "id": "1add690a",
   "metadata": {},
   "outputs": [
    {
     "data": {
      "text/plain": [
       "VehListdays                             48.50059\n",
       "VehMileage                                  64.0\n",
       "Dealer_Listing_Price                     38900.0\n",
       "VehYear                                     2019\n",
       "ListingID                                 311804\n",
       "VehEngine                  3.6L V6 24V MPFI DOHC\n",
       "SellerListSrc           Digital Motorworks (DMi)\n",
       "SellerState                                   PA\n",
       "VehFuel                                 Gasoline\n",
       "VehColorExt                                White\n",
       "VehColorInt                                black\n",
       "VehTransmission                8-Speed Automatic\n",
       "VehPriceLabel                          Good Deal\n",
       "VehDriveTrain                                4WD\n",
       "Vehicle_Trim                             Limited\n",
       "VehMake                                     Jeep\n",
       "VehModel                          Grand Cherokee\n",
       "RatingCategory                  Excellent Rating\n",
       "SellerCategory                      Rare Sellers\n",
       "SellerIsPriv                               False\n",
       "SourceCategory            High-Frequency Sources\n",
       "VehCertified                               False\n",
       "Name: 231, dtype: object"
      ]
     },
     "execution_count": 42,
     "metadata": {},
     "output_type": "execute_result"
    }
   ],
   "source": [
    "temp = pd.read_csv(transform_final)\n",
    "temp.loc[231]"
   ]
  },
  {
   "cell_type": "markdown",
   "id": "48ce75a8",
   "metadata": {},
   "source": [
    "## Train"
   ]
  },
  {
   "cell_type": "code",
   "execution_count": 44,
   "id": "d1126377",
   "metadata": {},
   "outputs": [],
   "source": [
    "stage = 'train'"
   ]
  },
  {
   "cell_type": "code",
   "execution_count": null,
   "id": "3ef1b00e",
   "metadata": {},
   "outputs": [],
   "source": [
    "file_path_lists = set_filepath(stage)\n",
    "transform_final = result[4]"
   ]
  },
  {
   "cell_type": "code",
   "execution_count": 5,
   "id": "a29e2ae9",
   "metadata": {},
   "outputs": [],
   "source": [
    "price_train_final_df = pd.read_csv(transform_final)"
   ]
  },
  {
   "cell_type": "code",
   "execution_count": 7,
   "id": "18360847",
   "metadata": {},
   "outputs": [
    {
     "data": {
      "text/plain": [
       "Index(['VehListdays', 'VehMileage', 'Dealer_Listing_Price', 'VehYear',\n",
       "       'ListingID', 'VehEngine', 'SellerListSrc', 'SellerState', 'VehFuel',\n",
       "       'VehColorExt', 'VehColorInt', 'VehTransmission', 'VehPriceLabel',\n",
       "       'VehDriveTrain', 'Vehicle_Trim', 'VehMake', 'VehModel',\n",
       "       'RatingCategory', 'SellerCategory', 'SellerIsPriv', 'SourceCategory',\n",
       "       'VehCertified'],\n",
       "      dtype='object')"
      ]
     },
     "execution_count": 7,
     "metadata": {},
     "output_type": "execute_result"
    }
   ],
   "source": [
    "price_train_final_df.columns"
   ]
  },
  {
   "cell_type": "code",
   "execution_count": 17,
   "id": "ee7c99e4",
   "metadata": {},
   "outputs": [
    {
     "data": {
      "text/plain": [
       "Series([], dtype: float64)"
      ]
     },
     "execution_count": 17,
     "metadata": {},
     "output_type": "execute_result"
    }
   ],
   "source": [
    "percent_nan = percent_missing(price_train_final_df)\n",
    "percent_nan"
   ]
  },
  {
   "cell_type": "code",
   "execution_count": 18,
   "id": "0658273e",
   "metadata": {},
   "outputs": [],
   "source": [
    "price_train_final_df.drop(columns=['ListingID'], inplace=True)"
   ]
  },
  {
   "cell_type": "code",
   "execution_count": 20,
   "id": "fa66ec65",
   "metadata": {},
   "outputs": [],
   "source": [
    "X_clean = price_train_final_df.drop('Dealer_Listing_Price',axis=1)\n",
    "y_clean = price_train_final_df['Dealer_Listing_Price']"
   ]
  },
  {
   "cell_type": "code",
   "execution_count": 21,
   "id": "6603dcf2",
   "metadata": {},
   "outputs": [],
   "source": [
    "X_clean_encoded = pd.get_dummies(X_clean, drop_first=True)"
   ]
  },
  {
   "cell_type": "code",
   "execution_count": 22,
   "id": "5b43aad9",
   "metadata": {},
   "outputs": [],
   "source": [
    "from sklearn.model_selection import train_test_split"
   ]
  },
  {
   "cell_type": "code",
   "execution_count": 23,
   "id": "b79a14a8",
   "metadata": {},
   "outputs": [],
   "source": [
    "X_train_clean, X_test_clean, y_train_clean, y_test_clean = train_test_split(X_clean_encoded, y_clean, test_size=0.10, random_state=101)"
   ]
  },
  {
   "cell_type": "code",
   "execution_count": 24,
   "id": "29aa6106",
   "metadata": {},
   "outputs": [],
   "source": [
    "from sklearn.preprocessing import StandardScaler"
   ]
  },
  {
   "cell_type": "code",
   "execution_count": 25,
   "id": "b174f05b",
   "metadata": {},
   "outputs": [],
   "source": [
    "scaler = StandardScaler()"
   ]
  },
  {
   "cell_type": "code",
   "execution_count": 26,
   "id": "a3ba21e0",
   "metadata": {},
   "outputs": [],
   "source": [
    "scaled_X_train_clean = scaler.fit_transform(X_train_clean)\n",
    "scaled_X_test_clean = scaler.transform(X_test_clean)"
   ]
  },
  {
   "cell_type": "code",
   "execution_count": 27,
   "id": "743c9370",
   "metadata": {},
   "outputs": [
    {
     "data": {
      "text/plain": [
       "((5668, 121), (630, 121))"
      ]
     },
     "execution_count": 27,
     "metadata": {},
     "output_type": "execute_result"
    }
   ],
   "source": [
    "scaled_X_train_clean.shape, scaled_X_test_clean.shape"
   ]
  },
  {
   "cell_type": "code",
   "execution_count": 28,
   "id": "cb37804b",
   "metadata": {},
   "outputs": [],
   "source": [
    "from sklearn.linear_model import ElasticNet"
   ]
  },
  {
   "cell_type": "code",
   "execution_count": 29,
   "id": "593c160f",
   "metadata": {},
   "outputs": [],
   "source": [
    "base_elastic_model = ElasticNet()"
   ]
  },
  {
   "cell_type": "code",
   "execution_count": 30,
   "id": "e955e45a",
   "metadata": {},
   "outputs": [],
   "source": [
    "param_grid = {'alpha':[0.1,1,5,10,50,100],\n",
    "              'l1_ratio':[.1, .5, .7, .9, .95, .99, 1]}"
   ]
  },
  {
   "cell_type": "code",
   "execution_count": 31,
   "id": "817c5da6",
   "metadata": {},
   "outputs": [],
   "source": [
    "from sklearn.model_selection import GridSearchCV"
   ]
  },
  {
   "cell_type": "code",
   "execution_count": 32,
   "id": "60222558",
   "metadata": {},
   "outputs": [],
   "source": [
    "grid_model = GridSearchCV(estimator=base_elastic_model,\n",
    "                          param_grid=param_grid,\n",
    "                          scoring='neg_mean_squared_error',\n",
    "                          cv=5,\n",
    "                          verbose=1)"
   ]
  },
  {
   "cell_type": "code",
   "execution_count": 33,
   "id": "e6d32259",
   "metadata": {},
   "outputs": [
    {
     "name": "stdout",
     "output_type": "stream",
     "text": [
      "Fitting 5 folds for each of 42 candidates, totalling 210 fits\n"
     ]
    },
    {
     "name": "stderr",
     "output_type": "stream",
     "text": [
      "/usr/local/anaconda3/lib/python3.11/site-packages/sklearn/linear_model/_coordinate_descent.py:628: ConvergenceWarning: Objective did not converge. You might want to increase the number of iterations, check the scale of the features or consider increasing regularisation. Duality gap: 5.696e+09, tolerance: 2.646e+07\n",
      "  model = cd_fast.enet_coordinate_descent(\n",
      "/usr/local/anaconda3/lib/python3.11/site-packages/sklearn/linear_model/_coordinate_descent.py:628: ConvergenceWarning: Objective did not converge. You might want to increase the number of iterations, check the scale of the features or consider increasing regularisation. Duality gap: 4.680e+09, tolerance: 2.471e+07\n",
      "  model = cd_fast.enet_coordinate_descent(\n",
      "/usr/local/anaconda3/lib/python3.11/site-packages/sklearn/linear_model/_coordinate_descent.py:628: ConvergenceWarning: Objective did not converge. You might want to increase the number of iterations, check the scale of the features or consider increasing regularisation. Duality gap: 5.595e+09, tolerance: 2.623e+07\n",
      "  model = cd_fast.enet_coordinate_descent(\n",
      "/usr/local/anaconda3/lib/python3.11/site-packages/sklearn/linear_model/_coordinate_descent.py:628: ConvergenceWarning: Objective did not converge. You might want to increase the number of iterations, check the scale of the features or consider increasing regularisation. Duality gap: 3.184e+09, tolerance: 2.523e+07\n",
      "  model = cd_fast.enet_coordinate_descent(\n",
      "/usr/local/anaconda3/lib/python3.11/site-packages/sklearn/linear_model/_coordinate_descent.py:628: ConvergenceWarning: Objective did not converge. You might want to increase the number of iterations, check the scale of the features or consider increasing regularisation. Duality gap: 2.694e+09, tolerance: 2.528e+07\n",
      "  model = cd_fast.enet_coordinate_descent(\n",
      "/usr/local/anaconda3/lib/python3.11/site-packages/sklearn/linear_model/_coordinate_descent.py:628: ConvergenceWarning: Objective did not converge. You might want to increase the number of iterations, check the scale of the features or consider increasing regularisation. Duality gap: 1.067e+10, tolerance: 2.646e+07\n",
      "  model = cd_fast.enet_coordinate_descent(\n",
      "/usr/local/anaconda3/lib/python3.11/site-packages/sklearn/linear_model/_coordinate_descent.py:628: ConvergenceWarning: Objective did not converge. You might want to increase the number of iterations, check the scale of the features or consider increasing regularisation. Duality gap: 1.114e+10, tolerance: 2.471e+07\n",
      "  model = cd_fast.enet_coordinate_descent(\n",
      "/usr/local/anaconda3/lib/python3.11/site-packages/sklearn/linear_model/_coordinate_descent.py:628: ConvergenceWarning: Objective did not converge. You might want to increase the number of iterations, check the scale of the features or consider increasing regularisation. Duality gap: 4.625e+09, tolerance: 2.623e+07\n",
      "  model = cd_fast.enet_coordinate_descent(\n",
      "/usr/local/anaconda3/lib/python3.11/site-packages/sklearn/linear_model/_coordinate_descent.py:628: ConvergenceWarning: Objective did not converge. You might want to increase the number of iterations, check the scale of the features or consider increasing regularisation. Duality gap: 3.434e+09, tolerance: 2.523e+07\n",
      "  model = cd_fast.enet_coordinate_descent(\n",
      "/usr/local/anaconda3/lib/python3.11/site-packages/sklearn/linear_model/_coordinate_descent.py:628: ConvergenceWarning: Objective did not converge. You might want to increase the number of iterations, check the scale of the features or consider increasing regularisation. Duality gap: 1.057e+10, tolerance: 2.528e+07\n",
      "  model = cd_fast.enet_coordinate_descent(\n",
      "/usr/local/anaconda3/lib/python3.11/site-packages/sklearn/linear_model/_coordinate_descent.py:628: ConvergenceWarning: Objective did not converge. You might want to increase the number of iterations, check the scale of the features or consider increasing regularisation. Duality gap: 3.321e+07, tolerance: 2.523e+07\n",
      "  model = cd_fast.enet_coordinate_descent(\n",
      "/usr/local/anaconda3/lib/python3.11/site-packages/sklearn/linear_model/_coordinate_descent.py:628: ConvergenceWarning: Objective did not converge. You might want to increase the number of iterations, check the scale of the features or consider increasing regularisation. Duality gap: 2.850e+07, tolerance: 2.528e+07\n",
      "  model = cd_fast.enet_coordinate_descent(\n"
     ]
    },
    {
     "data": {
      "text/html": [
       "<style>#sk-container-id-1 {color: black;}#sk-container-id-1 pre{padding: 0;}#sk-container-id-1 div.sk-toggleable {background-color: white;}#sk-container-id-1 label.sk-toggleable__label {cursor: pointer;display: block;width: 100%;margin-bottom: 0;padding: 0.3em;box-sizing: border-box;text-align: center;}#sk-container-id-1 label.sk-toggleable__label-arrow:before {content: \"▸\";float: left;margin-right: 0.25em;color: #696969;}#sk-container-id-1 label.sk-toggleable__label-arrow:hover:before {color: black;}#sk-container-id-1 div.sk-estimator:hover label.sk-toggleable__label-arrow:before {color: black;}#sk-container-id-1 div.sk-toggleable__content {max-height: 0;max-width: 0;overflow: hidden;text-align: left;background-color: #f0f8ff;}#sk-container-id-1 div.sk-toggleable__content pre {margin: 0.2em;color: black;border-radius: 0.25em;background-color: #f0f8ff;}#sk-container-id-1 input.sk-toggleable__control:checked~div.sk-toggleable__content {max-height: 200px;max-width: 100%;overflow: auto;}#sk-container-id-1 input.sk-toggleable__control:checked~label.sk-toggleable__label-arrow:before {content: \"▾\";}#sk-container-id-1 div.sk-estimator input.sk-toggleable__control:checked~label.sk-toggleable__label {background-color: #d4ebff;}#sk-container-id-1 div.sk-label input.sk-toggleable__control:checked~label.sk-toggleable__label {background-color: #d4ebff;}#sk-container-id-1 input.sk-hidden--visually {border: 0;clip: rect(1px 1px 1px 1px);clip: rect(1px, 1px, 1px, 1px);height: 1px;margin: -1px;overflow: hidden;padding: 0;position: absolute;width: 1px;}#sk-container-id-1 div.sk-estimator {font-family: monospace;background-color: #f0f8ff;border: 1px dotted black;border-radius: 0.25em;box-sizing: border-box;margin-bottom: 0.5em;}#sk-container-id-1 div.sk-estimator:hover {background-color: #d4ebff;}#sk-container-id-1 div.sk-parallel-item::after {content: \"\";width: 100%;border-bottom: 1px solid gray;flex-grow: 1;}#sk-container-id-1 div.sk-label:hover label.sk-toggleable__label {background-color: #d4ebff;}#sk-container-id-1 div.sk-serial::before {content: \"\";position: absolute;border-left: 1px solid gray;box-sizing: border-box;top: 0;bottom: 0;left: 50%;z-index: 0;}#sk-container-id-1 div.sk-serial {display: flex;flex-direction: column;align-items: center;background-color: white;padding-right: 0.2em;padding-left: 0.2em;position: relative;}#sk-container-id-1 div.sk-item {position: relative;z-index: 1;}#sk-container-id-1 div.sk-parallel {display: flex;align-items: stretch;justify-content: center;background-color: white;position: relative;}#sk-container-id-1 div.sk-item::before, #sk-container-id-1 div.sk-parallel-item::before {content: \"\";position: absolute;border-left: 1px solid gray;box-sizing: border-box;top: 0;bottom: 0;left: 50%;z-index: -1;}#sk-container-id-1 div.sk-parallel-item {display: flex;flex-direction: column;z-index: 1;position: relative;background-color: white;}#sk-container-id-1 div.sk-parallel-item:first-child::after {align-self: flex-end;width: 50%;}#sk-container-id-1 div.sk-parallel-item:last-child::after {align-self: flex-start;width: 50%;}#sk-container-id-1 div.sk-parallel-item:only-child::after {width: 0;}#sk-container-id-1 div.sk-dashed-wrapped {border: 1px dashed gray;margin: 0 0.4em 0.5em 0.4em;box-sizing: border-box;padding-bottom: 0.4em;background-color: white;}#sk-container-id-1 div.sk-label label {font-family: monospace;font-weight: bold;display: inline-block;line-height: 1.2em;}#sk-container-id-1 div.sk-label-container {text-align: center;}#sk-container-id-1 div.sk-container {/* jupyter's `normalize.less` sets `[hidden] { display: none; }` but bootstrap.min.css set `[hidden] { display: none !important; }` so we also need the `!important` here to be able to override the default hidden behavior on the sphinx rendered scikit-learn.org. See: https://github.com/scikit-learn/scikit-learn/issues/21755 */display: inline-block !important;position: relative;}#sk-container-id-1 div.sk-text-repr-fallback {display: none;}</style><div id=\"sk-container-id-1\" class=\"sk-top-container\"><div class=\"sk-text-repr-fallback\"><pre>GridSearchCV(cv=5, estimator=ElasticNet(),\n",
       "             param_grid={&#x27;alpha&#x27;: [0.1, 1, 5, 10, 50, 100],\n",
       "                         &#x27;l1_ratio&#x27;: [0.1, 0.5, 0.7, 0.9, 0.95, 0.99, 1]},\n",
       "             scoring=&#x27;neg_mean_squared_error&#x27;, verbose=1)</pre><b>In a Jupyter environment, please rerun this cell to show the HTML representation or trust the notebook. <br />On GitHub, the HTML representation is unable to render, please try loading this page with nbviewer.org.</b></div><div class=\"sk-container\" hidden><div class=\"sk-item sk-dashed-wrapped\"><div class=\"sk-label-container\"><div class=\"sk-label sk-toggleable\"><input class=\"sk-toggleable__control sk-hidden--visually\" id=\"sk-estimator-id-1\" type=\"checkbox\" ><label for=\"sk-estimator-id-1\" class=\"sk-toggleable__label sk-toggleable__label-arrow\">GridSearchCV</label><div class=\"sk-toggleable__content\"><pre>GridSearchCV(cv=5, estimator=ElasticNet(),\n",
       "             param_grid={&#x27;alpha&#x27;: [0.1, 1, 5, 10, 50, 100],\n",
       "                         &#x27;l1_ratio&#x27;: [0.1, 0.5, 0.7, 0.9, 0.95, 0.99, 1]},\n",
       "             scoring=&#x27;neg_mean_squared_error&#x27;, verbose=1)</pre></div></div></div><div class=\"sk-parallel\"><div class=\"sk-parallel-item\"><div class=\"sk-item\"><div class=\"sk-label-container\"><div class=\"sk-label sk-toggleable\"><input class=\"sk-toggleable__control sk-hidden--visually\" id=\"sk-estimator-id-2\" type=\"checkbox\" ><label for=\"sk-estimator-id-2\" class=\"sk-toggleable__label sk-toggleable__label-arrow\">estimator: ElasticNet</label><div class=\"sk-toggleable__content\"><pre>ElasticNet()</pre></div></div></div><div class=\"sk-serial\"><div class=\"sk-item\"><div class=\"sk-estimator sk-toggleable\"><input class=\"sk-toggleable__control sk-hidden--visually\" id=\"sk-estimator-id-3\" type=\"checkbox\" ><label for=\"sk-estimator-id-3\" class=\"sk-toggleable__label sk-toggleable__label-arrow\">ElasticNet</label><div class=\"sk-toggleable__content\"><pre>ElasticNet()</pre></div></div></div></div></div></div></div></div></div></div>"
      ],
      "text/plain": [
       "GridSearchCV(cv=5, estimator=ElasticNet(),\n",
       "             param_grid={'alpha': [0.1, 1, 5, 10, 50, 100],\n",
       "                         'l1_ratio': [0.1, 0.5, 0.7, 0.9, 0.95, 0.99, 1]},\n",
       "             scoring='neg_mean_squared_error', verbose=1)"
      ]
     },
     "execution_count": 33,
     "metadata": {},
     "output_type": "execute_result"
    }
   ],
   "source": [
    "grid_model.fit(scaled_X_train_clean,y_train_clean)"
   ]
  },
  {
   "cell_type": "code",
   "execution_count": 34,
   "id": "1932fb16",
   "metadata": {},
   "outputs": [
    {
     "data": {
      "text/plain": [
       "{'alpha': 10, 'l1_ratio': 1}"
      ]
     },
     "execution_count": 34,
     "metadata": {},
     "output_type": "execute_result"
    }
   ],
   "source": [
    "grid_model.best_params_"
   ]
  },
  {
   "cell_type": "code",
   "execution_count": 35,
   "id": "1d1e6ebe",
   "metadata": {},
   "outputs": [],
   "source": [
    "y_pred = grid_model.predict(scaled_X_test_clean)"
   ]
  },
  {
   "cell_type": "code",
   "execution_count": 36,
   "id": "8b7009f4",
   "metadata": {},
   "outputs": [],
   "source": [
    "from sklearn.metrics import mean_absolute_error,mean_squared_error"
   ]
  },
  {
   "cell_type": "code",
   "execution_count": 37,
   "id": "809c246f",
   "metadata": {},
   "outputs": [
    {
     "data": {
      "text/plain": [
       "1949.4371102388482"
      ]
     },
     "execution_count": 37,
     "metadata": {},
     "output_type": "execute_result"
    }
   ],
   "source": [
    "mean_absolute_error(y_test_clean,y_pred)"
   ]
  },
  {
   "cell_type": "code",
   "execution_count": 38,
   "id": "5c13215b",
   "metadata": {},
   "outputs": [
    {
     "data": {
      "text/plain": [
       "2603.075458011679"
      ]
     },
     "execution_count": 38,
     "metadata": {},
     "output_type": "execute_result"
    }
   ],
   "source": [
    "np.sqrt(mean_squared_error(y_test_clean,y_pred))"
   ]
  },
  {
   "cell_type": "code",
   "execution_count": 40,
   "id": "9b4a6bc3",
   "metadata": {},
   "outputs": [
    {
     "data": {
      "text/plain": [
       "32265.05287392823"
      ]
     },
     "execution_count": 40,
     "metadata": {},
     "output_type": "execute_result"
    }
   ],
   "source": [
    "np.mean(price_train_final_df['Dealer_Listing_Price'])"
   ]
  },
  {
   "cell_type": "markdown",
   "id": "16379241",
   "metadata": {},
   "source": [
    " ## Test"
   ]
  },
  {
   "cell_type": "code",
   "execution_count": 67,
   "id": "8c18efa1",
   "metadata": {},
   "outputs": [],
   "source": [
    "stage = 'test'"
   ]
  },
  {
   "cell_type": "code",
   "execution_count": 68,
   "id": "bbed0cb7",
   "metadata": {},
   "outputs": [],
   "source": [
    "file_path_lists = set_filepath(stage)\n",
    "transform_final = file_path_lists[4]"
   ]
  },
  {
   "cell_type": "code",
   "execution_count": 69,
   "id": "986f91bd",
   "metadata": {},
   "outputs": [],
   "source": [
    "test_final_df = pd.read_csv(transform_final)"
   ]
  },
  {
   "cell_type": "code",
   "execution_count": 70,
   "id": "93fea979",
   "metadata": {},
   "outputs": [
    {
     "data": {
      "text/plain": [
       "Index(['VehListdays', 'VehMileage', 'VehYear', 'ListingID', 'VehEngine',\n",
       "       'SellerListSrc', 'SellerState', 'VehFuel', 'VehColorExt', 'VehColorInt',\n",
       "       'VehTransmission', 'VehPriceLabel', 'VehDriveTrain', 'VehMake',\n",
       "       'VehModel', 'RatingCategory', 'SellerCategory', 'SellerIsPriv',\n",
       "       'SourceCategory', 'VehCertified'],\n",
       "      dtype='object')"
      ]
     },
     "execution_count": 70,
     "metadata": {},
     "output_type": "execute_result"
    }
   ],
   "source": [
    "test_final_df.columns"
   ]
  },
  {
   "cell_type": "code",
   "execution_count": 71,
   "id": "ab7cc80b",
   "metadata": {},
   "outputs": [],
   "source": [
    "X_test_final = pd.get_dummies(test_final_df, drop_first=True)"
   ]
  },
  {
   "cell_type": "code",
   "execution_count": 72,
   "id": "d0481a3c",
   "metadata": {},
   "outputs": [],
   "source": [
    "# Cross check and recon the columns\n",
    "missing_cols = set(X_train_clean.columns) - set(X_test_final.columns)\n",
    "for col in missing_cols:\n",
    "    X_test_final[col] = 0"
   ]
  },
  {
   "cell_type": "code",
   "execution_count": 73,
   "id": "35abf7cd",
   "metadata": {},
   "outputs": [
    {
     "name": "stdout",
     "output_type": "stream",
     "text": [
      "<class 'pandas.core.frame.DataFrame'>\n",
      "RangeIndex: 1000 entries, 0 to 999\n",
      "Columns: 123 entries, VehListdays to VehFuel_unknown\n",
      "dtypes: bool(2), float64(2), int64(22), uint8(97)\n",
      "memory usage: 284.3 KB\n"
     ]
    }
   ],
   "source": [
    "X_test_final.info()"
   ]
  },
  {
   "cell_type": "code",
   "execution_count": 74,
   "id": "e8a1530d",
   "metadata": {},
   "outputs": [],
   "source": [
    "X_test_final = X_test_final[X_train_clean.columns]"
   ]
  },
  {
   "cell_type": "code",
   "execution_count": 75,
   "id": "8b732f19",
   "metadata": {},
   "outputs": [],
   "source": [
    "scaled_X_test_final = scaler.transform(X_test_final)"
   ]
  },
  {
   "cell_type": "code",
   "execution_count": 76,
   "id": "0be40de3",
   "metadata": {},
   "outputs": [],
   "source": [
    "predictions = grid_model.predict(scaled_X_test_final)"
   ]
  },
  {
   "cell_type": "code",
   "execution_count": 77,
   "id": "b5ce4cb6",
   "metadata": {},
   "outputs": [],
   "source": [
    "report_df = pd.read_csv('data/report/report.csv')"
   ]
  },
  {
   "cell_type": "code",
   "execution_count": 78,
   "id": "7dbbcffb",
   "metadata": {},
   "outputs": [],
   "source": [
    "report_df['Dealer_Listing_Price'] = predictions"
   ]
  },
  {
   "cell_type": "code",
   "execution_count": 79,
   "id": "fa76112c",
   "metadata": {},
   "outputs": [],
   "source": [
    "report_df.to_csv('report.csv', index=False)"
   ]
  },
  {
   "cell_type": "code",
   "execution_count": 80,
   "id": "297a4809",
   "metadata": {},
   "outputs": [
    {
     "data": {
      "text/html": [
       "<div>\n",
       "<style scoped>\n",
       "    .dataframe tbody tr th:only-of-type {\n",
       "        vertical-align: middle;\n",
       "    }\n",
       "\n",
       "    .dataframe tbody tr th {\n",
       "        vertical-align: top;\n",
       "    }\n",
       "\n",
       "    .dataframe thead th {\n",
       "        text-align: right;\n",
       "    }\n",
       "</style>\n",
       "<table border=\"1\" class=\"dataframe\">\n",
       "  <thead>\n",
       "    <tr style=\"text-align: right;\">\n",
       "      <th></th>\n",
       "      <th>ListingID</th>\n",
       "      <th>Vehicle_Trim</th>\n",
       "      <th>Dealer_Listing_Price</th>\n",
       "    </tr>\n",
       "  </thead>\n",
       "  <tbody>\n",
       "    <tr>\n",
       "      <th>0</th>\n",
       "      <td>8622015</td>\n",
       "      <td>FWD</td>\n",
       "      <td>34368.255796</td>\n",
       "    </tr>\n",
       "    <tr>\n",
       "      <th>1</th>\n",
       "      <td>8625693</td>\n",
       "      <td>Limited</td>\n",
       "      <td>26989.157438</td>\n",
       "    </tr>\n",
       "    <tr>\n",
       "      <th>2</th>\n",
       "      <td>8625750</td>\n",
       "      <td>Limited</td>\n",
       "      <td>19956.414154</td>\n",
       "    </tr>\n",
       "    <tr>\n",
       "      <th>3</th>\n",
       "      <td>8626885</td>\n",
       "      <td>Limited</td>\n",
       "      <td>23242.270791</td>\n",
       "    </tr>\n",
       "    <tr>\n",
       "      <th>4</th>\n",
       "      <td>8627430</td>\n",
       "      <td>Luxury</td>\n",
       "      <td>35480.710098</td>\n",
       "    </tr>\n",
       "  </tbody>\n",
       "</table>\n",
       "</div>"
      ],
      "text/plain": [
       "   ListingID Vehicle_Trim  Dealer_Listing_Price\n",
       "0    8622015          FWD          34368.255796\n",
       "1    8625693      Limited          26989.157438\n",
       "2    8625750      Limited          19956.414154\n",
       "3    8626885      Limited          23242.270791\n",
       "4    8627430       Luxury          35480.710098"
      ]
     },
     "execution_count": 80,
     "metadata": {},
     "output_type": "execute_result"
    }
   ],
   "source": [
    "report_df.head()"
   ]
  },
  {
   "cell_type": "code",
   "execution_count": null,
   "id": "e606735a",
   "metadata": {},
   "outputs": [],
   "source": []
  }
 ],
 "metadata": {
  "kernelspec": {
   "display_name": "Python 3 (ipykernel)",
   "language": "python",
   "name": "python3"
  },
  "language_info": {
   "codemirror_mode": {
    "name": "ipython",
    "version": 3
   },
   "file_extension": ".py",
   "mimetype": "text/x-python",
   "name": "python",
   "nbconvert_exporter": "python",
   "pygments_lexer": "ipython3",
   "version": "3.11.4"
  }
 },
 "nbformat": 4,
 "nbformat_minor": 5
}
