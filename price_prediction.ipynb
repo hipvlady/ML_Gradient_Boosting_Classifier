{
 "cells": [
  {
   "cell_type": "code",
   "execution_count": 95,
   "id": "274ec8f0",
   "metadata": {},
   "outputs": [],
   "source": [
    "import pandas as pd\n",
    "import numpy as np\n",
    "import matplotlib.pyplot as plt\n",
    "import seaborn as sns"
   ]
  },
  {
   "cell_type": "code",
   "execution_count": 96,
   "id": "c8bc8930",
   "metadata": {},
   "outputs": [],
   "source": [
    "from sklearn.preprocessing import MultiLabelBinarizer"
   ]
  },
  {
   "cell_type": "code",
   "execution_count": 97,
   "id": "9fcb96e3",
   "metadata": {},
   "outputs": [],
   "source": [
    "import sys\n",
    "sys.path.append('modules')\n",
    "\n",
    "import importlib\n",
    "import data"
   ]
  },
  {
   "cell_type": "code",
   "execution_count": 98,
   "id": "50315d46",
   "metadata": {
    "scrolled": true
   },
   "outputs": [
    {
     "data": {
      "text/plain": [
       "<module 'data' from '/Users/vladparakhin/Documents/GitHub/ML_Gradient_Boosting_Classifier/modules/data.py'>"
      ]
     },
     "execution_count": 98,
     "metadata": {},
     "output_type": "execute_result"
    }
   ],
   "source": [
    "importlib.reload(sys.modules['data'])"
   ]
  },
  {
   "cell_type": "code",
   "execution_count": 99,
   "id": "4acf2bb9",
   "metadata": {},
   "outputs": [],
   "source": [
    "from data import set_filepath, test_loc, percent_missing, display_test, parse_features"
   ]
  },
  {
   "cell_type": "markdown",
   "id": "48ce75a8",
   "metadata": {},
   "source": [
    "## Train"
   ]
  },
  {
   "cell_type": "code",
   "execution_count": 100,
   "id": "d1126377",
   "metadata": {},
   "outputs": [],
   "source": [
    "stage = 'train'"
   ]
  },
  {
   "cell_type": "code",
   "execution_count": 101,
   "id": "3ef1b00e",
   "metadata": {},
   "outputs": [],
   "source": [
    "file_path_lists = set_filepath(stage)\n",
    "transform_final = file_path_lists[4]"
   ]
  },
  {
   "cell_type": "code",
   "execution_count": 102,
   "id": "a29e2ae9",
   "metadata": {},
   "outputs": [],
   "source": [
    "price_train_final_df = pd.read_csv(transform_final)"
   ]
  },
  {
   "cell_type": "code",
   "execution_count": 103,
   "id": "18360847",
   "metadata": {},
   "outputs": [
    {
     "data": {
      "text/plain": [
       "Index(['VehListdays', 'VehMileage', 'Dealer_Listing_Price', 'VehYear',\n",
       "       'ListingID', 'VehEngine', 'SellerListSrc', 'SellerState', 'VehFuel',\n",
       "       'VehColorExt', 'VehColorInt', 'VehTransmission', 'VehFeats',\n",
       "       'VehHistory', 'VehPriceLabel', 'VehDriveTrain', 'Vehicle_Trim',\n",
       "       'VehMake', 'VehModel', 'RatingCategory', 'SellerCategory',\n",
       "       'SellerIsPriv', 'SourceCategory', 'VehCertified'],\n",
       "      dtype='object')"
      ]
     },
     "execution_count": 103,
     "metadata": {},
     "output_type": "execute_result"
    }
   ],
   "source": [
    "price_train_final_df.columns"
   ]
  },
  {
   "cell_type": "code",
   "execution_count": 104,
   "id": "ee7c99e4",
   "metadata": {},
   "outputs": [
    {
     "data": {
      "text/plain": [
       "Series([], dtype: float64)"
      ]
     },
     "execution_count": 104,
     "metadata": {},
     "output_type": "execute_result"
    }
   ],
   "source": [
    "percent_nan = percent_missing(price_train_final_df)\n",
    "percent_nan"
   ]
  },
  {
   "cell_type": "code",
   "execution_count": 93,
   "id": "0658273e",
   "metadata": {},
   "outputs": [],
   "source": [
    "price_train_final_df.drop(columns=['ListingID'], inplace=True)"
   ]
  },
  {
   "cell_type": "code",
   "execution_count": 105,
   "id": "2783aae6",
   "metadata": {},
   "outputs": [],
   "source": [
    "X = price_train_final_df.drop('Dealer_Listing_Price',axis=1)"
   ]
  },
  {
   "cell_type": "code",
   "execution_count": 106,
   "id": "c3866d73",
   "metadata": {},
   "outputs": [],
   "source": [
    "# Ensure VehFeats is in the correct list format\n",
    "X['VehFeats'] = X['VehFeats'].apply(parse_features)"
   ]
  },
  {
   "cell_type": "code",
   "execution_count": 107,
   "id": "a9108b3e",
   "metadata": {},
   "outputs": [],
   "source": [
    "X['VehHistory'] = X['VehHistory'].apply(parse_features)"
   ]
  },
  {
   "cell_type": "markdown",
   "id": "67368e7b",
   "metadata": {},
   "source": [
    "#one_hot_encoded_features : veh_feats_encoded, veh_history_encoded"
   ]
  },
  {
   "cell_type": "code",
   "execution_count": 108,
   "id": "f862a0b0",
   "metadata": {},
   "outputs": [],
   "source": [
    "mlb_feats = MultiLabelBinarizer()"
   ]
  },
  {
   "cell_type": "code",
   "execution_count": 109,
   "id": "59f8ab9f",
   "metadata": {},
   "outputs": [],
   "source": [
    "mlb_history = MultiLabelBinarizer()"
   ]
  },
  {
   "cell_type": "code",
   "execution_count": 110,
   "id": "943248d3",
   "metadata": {},
   "outputs": [],
   "source": [
    "encoded_feats = mlb_feats.fit_transform(X['VehFeats'])"
   ]
  },
  {
   "cell_type": "code",
   "execution_count": 111,
   "id": "257cb331",
   "metadata": {},
   "outputs": [],
   "source": [
    "encoded_history = mlb_history.fit_transform(X['VehHistory'])"
   ]
  },
  {
   "cell_type": "code",
   "execution_count": 112,
   "id": "025160c3",
   "metadata": {},
   "outputs": [],
   "source": [
    "history_col_names = mlb_history.classes_"
   ]
  },
  {
   "cell_type": "code",
   "execution_count": 113,
   "id": "4d2664ff",
   "metadata": {},
   "outputs": [
    {
     "data": {
      "text/plain": [
       "array([' Accident(s) Reported', ' Buyback Protection Eligible',\n",
       "       ' Non-Personal Use Reported', ' Title Issue(s) Reported',\n",
       "       '0 Owners', '1 Owner', '2 Owners', '3 Owners', '4 Owners'],\n",
       "      dtype=object)"
      ]
     },
     "execution_count": 113,
     "metadata": {},
     "output_type": "execute_result"
    }
   ],
   "source": [
    "history_col_names[:10]"
   ]
  },
  {
   "cell_type": "code",
   "execution_count": 114,
   "id": "77de7ae8",
   "metadata": {},
   "outputs": [],
   "source": [
    "# Convert the encoded matrices to DataFrames\n",
    "encoded_history_df = pd.DataFrame(encoded_history, columns=mlb_history.classes_)\n",
    "encoded_feats_df = pd.DataFrame(encoded_feats, columns=mlb_feats.classes_)"
   ]
  },
  {
   "cell_type": "code",
   "execution_count": 115,
   "id": "47264806",
   "metadata": {},
   "outputs": [],
   "source": [
    "# Drop the 'mlb-trnsformed' column(s) from the original dataset\n",
    "X = X.drop(['VehFeats', 'VehHistory'], axis=1)"
   ]
  },
  {
   "cell_type": "code",
   "execution_count": 116,
   "id": "ac5bafc9",
   "metadata": {},
   "outputs": [],
   "source": [
    "X = pd.get_dummies(X, drop_first=True)"
   ]
  },
  {
   "cell_type": "code",
   "execution_count": 117,
   "id": "981680de",
   "metadata": {},
   "outputs": [],
   "source": [
    "X = pd.concat([X, encoded_feats_df, encoded_history_df], axis=1)"
   ]
  },
  {
   "cell_type": "code",
   "execution_count": 121,
   "id": "b0447187",
   "metadata": {},
   "outputs": [
    {
     "name": "stdout",
     "output_type": "stream",
     "text": [
      "VehListdays\n",
      "VehMileage\n",
      "VehYear\n",
      "ListingID\n",
      "SellerIsPriv\n",
      "VehCertified\n",
      "VehEngine_3.6L\n",
      "VehEngine_3.6L V6\n",
      "VehEngine_3.6L V6 24V GDI DOHC\n",
      "VehEngine_3.6L V6 24V MPFI DOHC\n",
      "VehEngine_5.7L V8\n",
      "VehEngine_6.2L V8\n",
      "VehEngine_6.4L V8\n",
      "VehEngine_V6\n",
      "VehEngine_V8\n",
      "VehEngine_unknown\n",
      "SellerListSrc_Digital Motorworks (DMi)\n",
      "SellerListSrc_Five Star Certified Program\n",
      "SellerListSrc_HomeNet Automotive\n",
      "SellerListSrc_Inventory Command Center\n",
      "SellerListSrc_Jeep Certified Program\n",
      "SellerListSrc_My Dealer Center\n",
      "SellerListSrc_Sell It Yourself\n",
      "SellerListSrc_unknown\n",
      "SellerState_AL\n",
      "SellerState_AR\n",
      "SellerState_AZ\n",
      "SellerState_CA\n",
      "SellerState_CO\n",
      "SellerState_CT\n",
      "SellerState_DE\n",
      "SellerState_FL\n",
      "SellerState_GA\n",
      "SellerState_HI\n",
      "SellerState_IA\n",
      "SellerState_ID\n",
      "SellerState_IL\n",
      "SellerState_IN\n",
      "SellerState_KS\n",
      "SellerState_KY\n",
      "SellerState_LA\n",
      "SellerState_MA\n",
      "SellerState_MD\n",
      "SellerState_ME\n",
      "SellerState_MI\n",
      "SellerState_MN\n",
      "SellerState_MO\n",
      "SellerState_MS\n",
      "SellerState_MT\n",
      "SellerState_NC\n",
      "SellerState_ND\n",
      "SellerState_NE\n",
      "SellerState_NH\n",
      "SellerState_NJ\n",
      "SellerState_NM\n",
      "SellerState_NV\n",
      "SellerState_NY\n",
      "SellerState_OH\n",
      "SellerState_OK\n",
      "SellerState_OR\n",
      "SellerState_PA\n",
      "SellerState_RI\n",
      "SellerState_SC\n",
      "SellerState_SD\n",
      "SellerState_TN\n",
      "SellerState_TX\n",
      "SellerState_UT\n",
      "SellerState_VA\n",
      "SellerState_VT\n",
      "SellerState_WA\n",
      "SellerState_WI\n",
      "SellerState_WV\n",
      "SellerState_WY\n",
      "VehFuel_E85 Flex Fuel\n",
      "VehFuel_Gasoline\n",
      "VehFuel_Unknown\n",
      "VehFuel_unknown\n",
      "VehColorExt_Black\n",
      "VehColorExt_Blue\n",
      "VehColorExt_Brown\n",
      "VehColorExt_Gold\n",
      "VehColorExt_Gray\n",
      "VehColorExt_Green\n",
      "VehColorExt_Other\n",
      "VehColorExt_Red\n",
      "VehColorExt_Silver\n",
      "VehColorExt_White\n",
      "VehColorInt_black\n",
      "VehColorInt_blue\n",
      "VehColorInt_brown\n",
      "VehColorInt_gray\n",
      "VehColorInt_other\n",
      "VehColorInt_red\n",
      "VehColorInt_tan\n",
      "VehColorInt_unknown\n",
      "VehTransmission_8-Speed Automatic\n",
      "VehTransmission_Automatic\n",
      "VehTransmission_Automatic 8-Speed\n",
      "VehTransmission_Other\n",
      "VehTransmission_unknown\n",
      "VehPriceLabel_Good Deal\n",
      "VehPriceLabel_Great Deal\n",
      "VehDriveTrain_AWD\n",
      "VehDriveTrain_FWD\n",
      "VehDriveTrain_unknown\n",
      "Vehicle_Trim_FWD\n",
      "Vehicle_Trim_Limited\n",
      "Vehicle_Trim_Luxury\n",
      "Vehicle_Trim_Platinum\n",
      "Vehicle_Trim_Premium Luxury\n",
      "Vehicle_Trim_Trailhawk\n",
      "Vehicle_Trim_unknown\n",
      "VehMake_Jeep\n",
      "VehModel_XT5\n",
      "RatingCategory_Excellent Rating\n",
      "RatingCategory_Good Rating\n",
      "RatingCategory_Low Rating\n",
      "SellerCategory_Low Volume Sellers\n",
      "SellerCategory_Medium Volume Sellers\n",
      "SellerCategory_Rare Sellers\n",
      "SourceCategory_Medium-Frequency Sources\n",
      "SourceCategory_Other Sources\n",
      "(*23H)LIMITED-inc: Engine: 3.6L V6 24V VVT UPG I w/ESSTransmission: 8-Speed Automatic (845RE)\n",
      "(*23P)OVERLAND-inc: Engine: 3.6L V6 24V VVT UPG I w/ESSTransmission: 8-Speed Automatic (845RE)\n",
      "(*23Z)ALTITUDE-inc: Engine: 3.6L V6 24V VVTTransmission: 8-Speed Automatic (845RE)Body Color CladdingsGloss Black Fascia AppliqueBody Color Grille w/Platinum AccentBody Color Shark Fin AntennaDual Bright Exhaust TipsSIRIUSXM Satellite Radio (For more info: 800-643-2112 or www.siriusxm.com)Heated Front SeatsUniversal Garage Door Opener115V Auxiliary Power OutletRemote Start SystemPower LiftgateHeated Steering WheelSecurity AlarmJeep Black Gloss BadgingBlack Headlamp BezelsRear View Auto Dim Mirror w/MicrophoneUconnect AccessFor Details Visit DriveUconnect.comBody Color FasciasPower 4-Way Driver Lumbar AdjustNeutral Gray Satin Gloss Tail LampPower 8-Way Driver/Manual Passenger Seat\n",
      "(0 P) RED PASSION TINTCOAT\n",
      "(0 p) crystal white tricoat\n",
      "(ABS) Anti-Lock Braking System\n",
      "(PAINT)BILLET SILVER METALLIC CLEARCOAT\n",
      "(PAINT)BRILLIANT BLACK CRYSTAL PEARLCOAT (BLACK ONYX CRYSTAL PEARL COAT)\n",
      "(PAINT)IVORY 3-COAT\n",
      "(PAINT)VELVET RED PEARLCOAT\n",
      "(SEATS)BLACKBLACK SUEDE SEATS W/BLACK STITCHING\n",
      "(SEATS)BLACKLEATHER TRIM SEATS W/EDGE WELTING\n",
      "(SEATS)BLACKLEATHER TRIMMED SEATS W/PERFORATED INSERTS\n",
      "(SEATS)BLACKPREMIUM LEATHER TRIMMED BUCKET SEATS\n",
      "* 3.6 LITER V6 ENGINE\n",
      "* 8 SPEED AUTOMATIC TRANSMISSION,17 ALUMINUM WHEELS\n",
      "* Only One Previous Owner Automart_Bkp11022019 Automart_Bkp11032019 Automart_Bkp2032019_Latest Automartcpov_03192019.Txt Automartdataproperties.Sh Automartdataproperties.Sh_Bkp19022019 Automartdataproperties.Sh_Bkp27022019 Automartdataproperties.Sh_Fortesting_11032019 Automartdataproperties.Sh_Mdls Automartftpdetails.Src Automartsftpdetails.Src Autotraderftpdetails.Src Backups Bkp_Autotradercpov_02262019.Txt_Withoutmdls Bkp_Cpov_Inventory.Txt_19thfilereplaceback Carsguru.Src Cars.Src Cars.Src_Bkp19022019 Cars.Src_Org Cars.Src_Org_Bkp12022019 Cars.Src_Postdeployment Cpovflag.Src Cpov_Inventory.Txt Cpov_Inventory.Txt_Feb16 Cpov.Log Dealerinfocdl.Txt Dmi.Src Ebay.Src Edmunds.Src Extractcpovautomartdata.Sh Extractcpovautomartdata.Sh_Bkp Extractcpovautomartdata.Sh_Bkp19022019 Extractcpovautomartdata.Sh_Bkp27022019 Extractcpovautomartdata.Sh_Fortesting_11032019 Extractcpovautomartdata.Sh_Mdls Ftp.Log Genricsftp.Src Logsbackup19thmarfailure Ls Nohup.Out Psam_190316_103006.Txt Psam_190317_103006.Txt Psam_190318_103009.Txt Psam_Cut.Txt Records_Present_In_Cpov_Not_In_Autodata.Txt Temp.Tmp Test_Lftp Automart_Bkp11022019 Automart_Bkp11032019 Automart_Bkp2032019_Latest Automartcpov_03192019.Txt Automartdataproperties.Sh Automartdataproperties.Sh_Bkp19022019 Automartdataproperties.Sh_Bkp27022019 Automartdataproperties.Sh_Fortesting_11032019 Automartdataproperties.Sh_Mdls Automartftpdetails.Src Automartsftpdetails.Src Autotraderftpdetails.Src Backups Bkp_Autotradercpov_02262019.Txt_Withoutmdls Bkp_Cpov_Inventory.Txt_19thfilereplaceback Carsguru.Src Cars.Src Cars.Src_Bkp19022019 Cars.Src_Org Cars.Src_Org_Bkp12022019 Cars.Src_Postdeployment Cpovflag.Src Cpov_Inventory.Txt Cpov_Inventory.Txt_Feb16 Cpov.Log Dealerinfocdl.Txt Dmi.Src Ebay.Src Edmunds.Src Extractcpovautomartdata.Sh Extractcpovautomartdata.Sh_Bkp Extractcpovautomartdata.Sh_Bkp19022019 Extractcpovautomartdata.Sh_Bkp27022019 Extractcpovautomartdata.Sh_Fortesting_11032019 Extractcpovautomartdata.Sh_Mdls Ftp.Log Genricsftp.S\n",
      "**\n",
      "** 4X4 **\n",
      "** ACCIDENT FREE AUTOCHECK**\n",
      "** ACCIDENT FREE CARFAX HISTORY **\n",
      "** BACK-UP CAMERA **\n",
      "** BLUETOOTH READY **\n",
      "** ONE OWNER **\n",
      "** SERVICE RECORDS AVAILABLE **\n",
      "** WARRANTY INCLUDED SEE BELOW **\n",
      "***4x4/all wheel drive (awd)***\n",
      "***CERTIFIED***\n",
      "***Certified Jeep*** 7yr / 100k Mile Certified Warranty\n",
      "***HABLO ESPANOL***\n",
      "***LATE MODEL BUDGET FITTER***\n",
      "***LOW MILES***\n",
      "***PERFECT 1 OWNER CARFAX***\n",
      "***back-up/reverse camera***\n",
      "***carfax 1-owner***\n",
      "***clean carfax--no accidents!!!***\n",
      "***factory warranty!!!***\n",
      "***gold check warranty for 90 days or 3\n",
      "***local trade-in***\n",
      "**AUTOCHECK ONE OWNER**\n",
      "**BLUETOOTH**\n",
      "**CLEAN AUTO CHECK**\n",
      "**Clean CarFax Record**\n",
      "**ELECTRONIC STABILITY CONTROL**\n",
      "**HEATED MIRRORS**\n",
      "**HEATED SEATS**\n",
      "**HEATED STEERING WHEEL**\n",
      "**HEATED STEERING WHEEL** 4X4!! 8.4 TOUCHSCREEN!!\n",
      "**KEYLESS ENTRY**\n",
      "**ONE OWNER**\n",
      "**U-Connect**\n",
      "*4X4\n",
      "*ACCIDENT FREE TITLE\n",
      "*ALTITUDE III PKG-inc: Black Roof MoldingMIC Black BezelsDark Lens TaillampsDelete Laredo Badge\n",
      "*AWD / 4WD\n",
      "*CERTIFIED*\n",
      "*GREAT CONDITION\n",
      "*LUXURY GRP II-inc: Ventilated Front Seats506 Watt AmplifierBi-Xenon HID HeadlampsAuto High Beam Headlamp ControlPower Tilt/Telescope Steering ColumnRain Sensitive Windshield WipersAutomatic Headlamp Leveling SystemDual-Pane Panoramic SunroofLED Daytime Running Headlamps9 Amplified Speakers w/SubwooferRadio: Uconnect 8.4Nav-Capable! See Dealer for DetailsUconnect AccessFor Details Visit DriveUconnect.com8.4 Touchscreen DisplayRoadside Assistance &amp; 9-1-1 CallIntegrated Voice Command w/BluetoothSiriusXM Satellite Radio1 year SiriusXM Radio ServiceFor more informationcall 800-643-2112NOT AVAILABLE in AlaskaHawaiiPuerto RicoStThomas/Virgin IslandsBarbadosDominican Republic and Guam\n",
      "*NEW TIRES\n",
      "*NON SMOKER*\n",
      "*No Accidents\n",
      "*ONE OWNER\n",
      "*One Owner\n",
      "*TOUCHSCREEN\n",
      "*U-CONNECT\n",
      "-RADIO W/ NAV: UCONNECT 8.4 NAV-inc: GPS NavigationHD RadioUconnect AccessFor Details Visit DriveUconnect.com8.4 Touchscreen DisplayRoadside Assistance &amp; 9-1-1 CallIntegrated Voice Command w/BluetoothSiriusXM Satellite Radio1 year SiriusXM Radio ServiceFor more informationcall 800-643-2112NOT AVAILABLE in AlaskaHawaiiPuerto RicoStThomas/Virgin IslandsBarbadosDominican Republic and Guam\n",
      "..aluminum wheels..\n",
      "..auto-off headlights..\n",
      "..back-up camera..\n",
      "..cooled driver seat..\n",
      "..cruise control..\n",
      "..daytime running lights..\n",
      "..driver air bag..\n",
      "..heated driver seat..\n",
      "10 Speakers\n",
      "12v Power Outlet\n",
      "17 Inch Alloy Wheels\n",
      "18 Inch Alloy Wheel\n",
      "18 Inch Alloy Wheels\n",
      "18 Inch Off Road Aluminum Wheels\n",
      "18 STEEL COMPACT SPARE WHEEL\n",
      "18 WHEEL &amp; 8.4 RADIO GROUP -inc: Nav-Capable! See Dealer for Details Rear View Auto Dim Mirror w/Microphone High Pressure Tires Tracking Tires: P265/60R18 BSW AS On/Off Road LR Uconnect Access (subscription required) For Details Visit DriveUconnect.com 8.4 Touchscreen Display Roadside Assistance &amp; 9-1-1 Call Wheels: 18 x 8.0 Aluminum Radio: Uconnect 8.4\n",
      "18 WHEEL &amp; 8.4 RADIO GROUP-inc: Nav-Capable! See Dealer for DetailsRear View Auto Dim Mirror w/MicrophoneHigh Pressure Tires TrackingTires: P265/60R18 BSW AS On/Off Road LRUconnect Access6 Month Trial (Registration Required)For Details Visit DriveUconnect.com8.4 Touchscreen DisplayRoadside Assistance &amp; 9-1-1 CallWheels: 18 x 8.0 AluminumRadio: Uconnect 8.4\n",
      "18 WHEEL &amp; 8.4 RADIO GROUP-inc: Nav-Capable! See Dealer for DetailsRear View Auto Dim Mirror w/MicrophoneUconnect Access6 Month Trial (Registration Required)8.4 Touchscreen DisplayRoadside Assistance &amp; 9-1-1 CallWheels: 18 x 8.0 AluminumInstrument Cluster w/Off-Road DispPagesRadio: Uconnect 8.4\n",
      "18 WHEEL &amp; 8.4 RADIO GROUP-inc: Nav-Capable! See Dealer for DetailsWheels: 18 x 8.0 Satin Silver AluminumTires: P265/60R18 BSW AS All TerrainRear View Auto Dim MirrorUconnect Access (subscription required)For Details Visit DriveUconnect.com8.4 Touchscreen DisplayRoadside Assistance &amp; 9-1-1 CallInstrument Cluster w/Off-Road DispPagesRadio: Uconnect 3C w/8.4 DisplaySiriusXM Satellite Radio (subscription required)For More InfoCall 800-643-2112\n",
      "18 WHEEL &amp; 8.4 RADIO GROUP-inc: Nav-Capable! See Dealer for DetailsWheels: 18 x 8.0 Satin Silver AluminumTires: P265/60R18 BSW AS All TerrainRear View Auto Dim MirrorUconnect Access6 Month Trial (Registration Required)For Details Visit DriveUconnect.com8.4 Touchscreen DisplayRoadside Assistance &amp; 9-1-1 CallInstrument Cluster w/Off-Road DispPagesRadio: Uconnect 3C w/8.4 DisplaySiriusXM Satellite RadioFor More InfoCall 800-643-21121-Year SiriusXM Radio Service\n",
      "18 WHEEL &amp; 8.4 RADIO GROUP-inc: Rear View Auto Dim MirrorRadio: Uconnect 4C Nav w/8.4 DisplayWheels: 18 x 8.0 Tech Gray Aluminum\n",
      "19 Harman Kardon Speakers With Subwoofer And 825 Watt Amplifier\n",
      "19 SPEAKERS HIGH PERFORMANCE AUDIO -inc: 825 Watt Amplifier\n",
      "19 SPEAKERS HIGH PERFORMANCE AUDIO-inc: 825 Watt Amplifier\n",
      "1st and 2nd row curtain head airbags\n",
      "2 LCD Monitors In The Front\n",
      "2 Seatback Storage Pockets\n",
      "20 Inch Alloy Wheels\n",
      "20 Inch Gloss Black Aluminum Wheels\n",
      "20 Inch Wheels\n",
      "230MM Rear Axle\n",
      "290 Hp Horsepower\n",
      "290 hp horsepower\n",
      "293 hp horsepower\n",
      "295 hp horsepower\n",
      "2BG ERC DFT PW7 APA YEP NAS MDA YG1 4EX 5N6 L12 *YL -X9\n",
      "3 12V DC Power Outlets\n",
      "3.09 REAR AXLE RATIO\n",
      "3.20 Axle Ratio\n",
      "3.45 REAR AXLE RATIO\n",
      "3.45 REAR AXLE RATIO (STD)\n",
      "3.45 REAR AXLE RATIO(STD)\n",
      "3.45 REAR AXLE RATIO...\n",
      "3.6 LITER V6 DOHC ENGINE\n",
      "3.6 Liter V6 Dohc Engine\n",
      "3.6 liter V6 DOHC engine\n",
      "3.6L V6 24V VVT Engine\n",
      "3.6L V6 DI Engine\n",
      "3.6L V6 Engine\n",
      "3.6L V6 MPI Engine\n",
      "3.6l V6\n",
      "310 HP HORSEPOWER\n",
      "4 DOORS\n",
      "4 Doors\n",
      "4-WHEEL ABS BRAKES\n",
      "4-Way Driver Seat -inc: Manual Recline and Fore/Aft Movement\n",
      "4-Way Passenger Seat -inc: Manual ReclineFore/Aft Movement and Fold Flat\n",
      "4-Wh\n",
      "4-Wheel ABS\n",
      "4-Wheel Abs Brakes\n",
      "4-Wheel Disc Brakes\n",
      "4-wheel ABS Brakes\n",
      "4-wheel ABS brakes\n",
      "4WD Type - Automatic full-time\n",
      "4WD/AWD\n",
      "4X4\n",
      "4wd Type - Automatic Full-Time\n",
      "4x4\n",
      "6 Speakers\n",
      "60-40 Folding Split-Bench Front Facing Manual Reclining Fold Forward Seatback Cloth Rear Seat\n",
      "75th Anniversary Luxury Group (DISC) - Includ\n",
      "8 Inch Touchscreen\n",
      "8-Speed A/T\n",
      "8-W\n",
      "8-WAY POWER ADJUSTABLE DRIVERS SEAT\n",
      "8-Way Power Adjustable Drivers Seat\n",
      "8-way power adjustable drivers seat\n",
      "8.4 Touchscreen Display\n",
      "8.4-Inch Touchscreen Display\n",
      "9 AMPLIFIED SPEAKERS W/SUBWOOFER\n",
      "9 AMPLIFIED SPEAKERS W/SUBWOOFER -inc: 506 Watt Amplifier\n",
      "9 AMPLIFIED SPEAKERS W/SUBWOOFER -inc: 506 Watt Amplifier Active Noise Control System\n",
      "9 AMPLIFIED SPEAKERS W/SUBWOOFER-inc: 506 Watt Amplifier\n",
      "9 AMPLIFIED SPEAKERS W/SUBWOOFER-inc: 506 Watt AmplifierActive Noise Control System\n",
      "9 Amplified Speakers W/Subwoofer\n",
      "9 Amplified Speakers w/Subwoofer\n",
      "99A 98 23110 23106 21797 81 81A JJCPO\n",
      "A\n",
      "A/C\n",
      "A/C FRONT\n",
      "A/C Front\n",
      "A/C REAR\n",
      "A/C SEATS\n",
      "A/C,4-Wheel Disc Brakes\n",
      "A/C,8-SPEED A/T,4-WHEEL DISC BRAKES,4-WHEEL ABS\n",
      "A/C,8-SPEED A/T,4-WHEEL DISC BRAKES,4-WHEEL ABS,\n",
      "A/C,8-Speed\n",
      "A/C,8-Speed A/T,4x4,4-Wheel Disc Brakes\n",
      "A/C,8-Speed A/T,4x4,4-Wheel Disc Brakes,4-Wheel A\n",
      "A/C,8-Speed A/T,4x4,4-Wheel Disc Brakes,4-Wheel ABS\n",
      "A/C,8-Speed A/T,4x4,4-Wheel Disc Brakes,4-Wheel ABS,\n",
      "AB\n",
      "ABS\n",
      "ABS (4-Wheel),4WD\n",
      "ABS (4-Wheel),8-Spd,4WD,3.6 Liter\n",
      "ABS And Driveline Traction Control\n",
      "ABS Anti-Lock Brakes\n",
      "ABS Anti-Lock Brakes,4 Wheel Drive\n",
      "ABS BRAKES\n",
      "ABS BRAKES,4-WHEEL DISC BRAKES,3.20 AXLE RATIO,155 AMP ALTERNATOR,14 SPEAKERS\n",
      "ABS BRAKES,8 SPEAKERS,4-WHEEL INDEPENDENT SUSPENSION,4-WHEEL DISC BRAKES,3.20 AXLE RATIO\n",
      "ABS BRAKES,8-WAY POWER FRONT PASSENGER SEAT ADJUSTER,4-WHEEL DISC BRAKES,3.20 AXLE RATIO,14 SPEAKERS\n",
      "ABS BREAKING SYSTEM WITH TRACTION CONTROL,3.6L V6 24V ENGINE,8 SPEED AUTOMATIC TRANSMISSION\n",
      "ABS Brakes\n",
      "ABS Brakes,4WD/AWD\n",
      "ABS Brakes,4x4,4WD/AWD\n",
      "ABS and Driveline Traction Control\n",
      "ABS brakes\n",
      "ABS brakes,4-Whe\n",
      "ABS brakes,4-Wheel Disc Brakes\n",
      "ABS brakes,4-Wheel Disc Brakes,115V Auxiliary Power Outlet,1-Yr. SIRIUSXM Radio Service\n",
      "ABS brakes,4-Wheel Disc Brakes,18&#x27; x 8.0&#x27; Aluminum Polished Whe\n",
      "ABS brakes,4-Wheel Disc Brakes,18in Wheel &amp; 8.4in Radio Group,180 Amp Alternator\n",
      "ABS brakes,4-Wheel Disc Brakes,4 Wheel D\n",
      "ABS brakes,6 Speakers,4-Wheel Disc Brakes,3.\n",
      "ABS brakes,6 Speakers,4-Wheel Disc Brakes,3.45 Rear Axle Ratio\n",
      "ABS brakes,6 Speakers,4-Wheel Disc Brakes,3.45 Rear Axle Ratio,1 OWNER\n",
      "ABS brakes,6 Speakers,4-Wheel Disc Brakes,3.45 Rear Axle Ratio,17 x 8.0 Aluminum Wheels\n",
      "ABS brakes,6 Speakers,4-Wheel Disc Brakes,3.45 Rear Axle Ratio,17in x 8.0in Aluminum Wheels\n",
      "ABS brakes,6 Speakers,4-Wheel Disc Brakes,3.45 Rear Axle Ratio,17in x 8.0in Aluminum Wheels,000 miles\n",
      "ABS brakes,6 Speakers,4-Wheel Disc Brakes,3.45 Rear Axle Ratio,17in x 8.0in Aluminum Wheels,1-Yr. SIRIUSXM Radio Service\n",
      "ABS brakes,6 Speakers,4-Wheel Disc Brakes,3.45 Rear Axle Ratio,18in x 8.0in Aluminum Wheels,18in Wheel &amp; 8.4in Radio Group,1-Yr. SIRIUSXM Radio Service,000 Mile Limited Power train Warranty. Please ask your salesperson for additional\n",
      "ABS brakes,6 Speakers,4-Wheel Disc Brakes,3.45 Rear Axle Ratio,2017 Jeep Grand Cherokee Laredo 4x4 ** ALLOY WHEELS ** KEYLESS ENTRY ** KEYLESS START **,17in x 8.0in Aluminum Wheels\n",
      "ABS brakes,6 Speakers,4WD,4-Wheel Disc Brakes,3.45 Rear Axle Ratio\n",
      "ABS brakes,6 Speakers,4WD,4-Wheel Disc Brakes,3.45 Rear Axle Ratio,1-Yr. SIRIUSXM Radio Service\n",
      "ABS brakes,7 &amp; 4 Pin Wiring Harness,4-Wheel Disc Brakes,180 Amp Alternator,17&#x27; x 8.0&#x27; Aluminum Wheels\n",
      "ABS brakes,7 &amp; 4 Pin Wiring Harness,6 Speakers,4-Wheel Disc Brakes,3.45 Rear Axle Ratio,180 Amp Alternator,17in x 8.0in Aluminum Wheels,1-Yr. SIRIUSXM Radio Service\n",
      "ABS brakes,8.4in Touchscree\n",
      "ABS brakes,8.4in Touchscreen Display,4-Wheel Disc Brakes,20in\n",
      "ABS brakes,8.4in Touchscreen Display,4-Wheel Disc Brakes,20in Alloy Wheels,1-Year SiriusXM Radio Service\n",
      "ABS brakes,8.4in Touchscreen Display,6 Month Trial (Registration Required),4-Wheel Disc Brakes,18in x 8.0in Aluminum Wheels,18in Wheel &amp; 8.4in Radio Group\n",
      "ABS brakes,8.4in Touchscreen Display,6 Speakers,6 Month Trial (Registration Required),4-Wheel Disc Brakes,3.45 Rear Axle Ratio,18in\n",
      "ABS brakes,8.4in Touchscreen Display,7 &amp; 4 Pin Wiring Harness,6 Speakers,4X4,4-Wheel Disc Brakes,3.45 Rear Axle Ratio,17in x 8.0in Aluminum Wheels\n",
      "ABS brakes,8.4in Touchscreen Display,7 &amp; 4 Pin Wiring Harness,6 Speakers,6 Month Trial (Registration Required),4-Wheel\n",
      "ABS,4-Wheel Disc Brakes\n",
      "ABS,4-Wheel Disc Brakes,\n",
      "ABS,4-Wheel Disc Brakes,18 WHEEL &amp; 8.4 RADIO GROUP -inc: Nav-Capable! See Dealer for Details Rear View Auto Dim Mirror w/Mic\n",
      "AC Outlet\n",
      "ACCIDENT RESPONSE\n",
      "ACTIVE SEATBELTS\n",
      "ACTIVE SUSPENSION SYSTEM\n",
      "ACTIVE SUSPENSION SYSTEM,8-SPEED A/T,4-WHEEL DISC BRAKES,4-WHEEL ABS\n",
      "ADAPTIVE REMOTE START\n",
      "ADJUSTABLE STEERING WHEEL\n",
      "ADVANCED SECURITY PACKAGE\n",
      "ADVANCED SECURITY PACKAGEincludes (N06) locking steering column(NWM) door lock and latch shields(UTR) self-powered Theft-Deterrent Alarm System(UTU) inclination sensor(UTV) vehicle interior movement sensor and (PB4) locking wheel lugs\n",
      "ADVANCED TECHNOLOGY GROUP-inc: Advanced Brake AssistAdaptive Cruise Control w/StopBlind Spot &amp; Cross Path DetectionForward Collision Warning Plus\n",
      "ADVANCED TECHNOLOGY GROUP-inc: Advanced Brake AssistFull Speed FWD Collision Warn PlusAdaptive Cruise Control w/StopBlind Spot &amp; Cross Path Detection\n",
      "AIR BAG\n",
      "AIR BAGS\n",
      "AIR CONDITIO\n",
      "AIR CONDITIONED SEAT(S)\n",
      "AIR CONDITIONED SEATS\n",
      "AIR CONDITIONING\n",
      "AIR CONDITIONING WITH DUAL ZONE CLIMATE CONTROL\n",
      "AIR CONDITIONING,12 VOLT POWER SOURCE\n",
      "AIR FILTER\n",
      "AIR VENTS\n",
      "AIRBA\n",
      "AIRBAGS - REAR - SIDE CURTAIN\n",
      "AIRBAGS - SIDE-CURTAIN ROLLOVER SENSOR\n",
      "ALARM\n",
      "ALL WEATHER TRAIL RATED PACKAGE-inc: Engine Block HeaterFuel Tank Skid Plate ShieldTransfer Case Skid Plate ShieldUnderbody Skid PlateMOPAR Cargo Area LinerFront Suspension Skid PlateTow HooksHeated Steering WheelSelec-Terrain SystemQuadra-Trac II 4WD SystemMOPAR Slush MatsHeated Front SeatsSkid Plate GroupRemote Start SystemHill Descent ControlTrail Rated BadgeFull Size Spare TireSteel Spare Wheel\n",
      "ALL WHEEL ABS\n",
      "ALL WHEEL DRIVE\n",
      "ALL-WHEEL DRIVE\n",
      "ALLOY WHEELS\n",
      "ALLOY WHEELS,20 WHEELS\n",
      "ALTERNATOR\n",
      "ALTERNATOR170 AMPS\n",
      "ALTITUDE III PACKAGE-inc: Black Roof MoldingMIC Black BezelsDark Lens TaillampsDelete Laredo Badge\n",
      "ALTITUDE IV PKG,9 SPEAKER AM/FM/SIRIUS XM WITH 7 UCONNECT AUDIO SYSTEM\n",
      "ALUMALLOY WHEELS\n",
      "ALUMALLOY WHEELS,3 PASSENGER REAR SEAT\n",
      "ALUMINUM WHEELS\n",
      "AM\n",
      "AM/\n",
      "AM/FM\n",
      "AM/FM Audio System\n",
      "AM/FM CD/DVD\n",
      "AM/FM CD/MP3\n",
      "AM/FM RADIO\n",
      "AM/FM RADIO: SIRIUSXM\n",
      "AM/FM Radio\n",
      "AM/FM STEREO\n",
      "AM/FM STEREO RADIO\n",
      "AM/FM St\n",
      "AM/FM Stereo\n",
      "AM/FM Stereo Radio\n",
      "AM/FM radio\n",
      "AM/FM radio: SiriusXM\n",
      "AM/FM/CD Stereo System\n",
      "AM/FM/HD Radio\n",
      "AM/FM/Satellite-prep Radio\n",
      "ANTI THEFT/SECURITY SYSTEM\n",
      "ANTI-LOCK BRAKES\n",
      "ANTI-LOCK BRAKING SYSTEM\n",
      "ANTI-THEFT SYSTEM\n",
      "ANTI-WHIPLASH FRONT HEAD RESTRAINTS\n",
      "ASSIST HANDLE\n",
      "AUDIO - ANTENN\n",
      "AUDIO - PREMIUM BRAND: BOSE\n",
      "AUDIO AUXILIARY INP\n",
      "AUDIO AUXILIARY INPUT: IPOD/IPHONE INTEGRATION\n",
      "AUDIO AUXILIARY INPUT: JACK\n",
      "AUDIO AUXILIARY INPUT: USB\n",
      "AUDIO CONTROLS ON STEERING WHEEL\n",
      "AUDIO SYSTEM FEATURE BOSE STUDIO SURROUND SOUND 14-SPEAKER SYSTEM,\n",
      "AUDIO SYSTEM FEATUREBOSE STUDIO SURROUND SOUND 14-SPEAKER SYSTEMwith surround amplifier\n",
      "AUT\n",
      "AUTO HEADLAMP ON/OFF-DELAY\n",
      "AUTO HIGH-BEAM HEADLIGHTS\n",
      "AUTO-DIMMING DOOR MIRRORS\n",
      "AUTO-DIMMING REAR-VIEW MIRROR\n",
      "AUTO-LOCK\n",
      "AUTOMATIC COLLISION BRAKING\n",
      "AUTOMATIC PARKING ASSISTincludes frontrearlateral-front parking assist and semi-automatic steering\n",
      "AUTOMATIC SAFETY BELT TIGHTENING\n",
      "AUTOMATIC TEMPERATURE CONTROL\n",
      "AUTOMATIC TRANSMISSION\n",
      "AUX\n",
      "AUXILIARY AUDIO INPUT\n",
      "Abs\n",
      "Abs And Driveline Traction Control\n",
      "Abs Brakes\n",
      "Accent Color Roof Rails\n",
      "Accident Free Carfax History\n",
      "Accident Free History,4x4\n",
      "Active Noise Control System\n",
      "Active Safety Pkg.\n",
      "Active Seatbelts\n",
      "Active Suspension\n",
      "Active Suspension System\n",
      "Ad\n",
      "Adaptive Cruise Control\n",
      "Adaptive Cruise Control w/Stop\n",
      "Adaptive Remote Start\n",
      "Adaptive Suspension\n",
      "Adaptive cruise control\n",
      "Adaptive headlights\n",
      "Adaptive suspension\n",
      "Adjustable Foot Pedals\n",
      "Adjustable S\n",
      "Adjustable Stee\n",
      "Adjustable Steering\n",
      "Adjustable Steering Whe\n",
      "Adjustable Steering Wheel\n",
      "Adjustable Steering Wheel,\n",
      "Advanced Brake Assist\n",
      "Advanced Technology Group\n",
      "Air\n",
      "Air Bags (Side): Front\n",
      "Air Bags: Dual Front\n",
      "Air Bags: F&amp;R Head Curtain\n",
      "Air Bags: Knee\n",
      "Air C\n",
      "Air Con\n",
      "Air Conditioned Seats\n",
      "Air Conditioned Seats,4x4\n",
      "Air Conditioni\n",
      "Air Conditioning\n",
      "Air Conditioning - Air Filtration\n",
      "Air Conditioning - Front - Automatic Climate Control\n",
      "Air Conditioning - Front - Dual Zones\n",
      "Air Conditioning With Dual Zone Climate Control\n",
      "Air Conditioning,\n",
      "Air Conditioning,4x4\n",
      "Air Conditioning,4x4,4WD/AWD,20 inch Black Alloy Wheels\n",
      "Air Conditioning: Rear\n",
      "Air Suspension\n",
      "Air bagPassenger Sensing System (Always use safety belts and child restraints. Children are safer when properly secured in a rear seat in the appropriate child restraint. See the Owner&#x27;s Manual for more information.)\n",
      "Air bagsdriver and front passenger frontal (dual stage for passenger)front and rear head curtaindriver side knee (Always use safety belts and child restraints. Children are safer when properly secured in a rear seat in the appropriate child restraint. See the Owner&#x27;s Manual for more information.)\n",
      "Air conditioning\n",
      "Air conditioning with dual zone climate control\n",
      "Airbag Occupancy Sensor\n",
      "Airbags - Driver - Knee\n",
      "Airbags - Front - Dual\n",
      "Airbags - Front - Side\n",
      "Airbags - Front - Side Curtain\n",
      "Airbags - P\n",
      "Airbags - Passenger - Occupant Sensing Deac\n",
      "Airbags - Passenger - Occupant Sensing Deactivation\n",
      "Airbags - Rear - Side Curtain\n",
      "Airbags - Side-curtain Rollover Sensor\n",
      "Alarm\n",
      "Alarm System\n",
      "All Weather Capability Group\n",
      "All Weather Trail Rated Package\n",
      "All Wheel ABS\n",
      "All Wheel Drive\n",
      "All-Weather Cargo Tray (LPO)\n",
      "All-Weather Floor Mats\n",
      "Alloy Wheels\n",
      "Alloy w\n",
      "Alloy wheels\n",
      "Alloy wheels / Premium Wheels\n",
      "Altitude Grille,8.4&#x27; Touchscreen Display,5-Year SiriusXM Travel Link Service,5-Year SiriusXM Traffic Service,115V Auxiliary Power Outlet,1-Year SiriusXM Radio Service,1-Year SiriusXM Guardian Trial\n",
      "Altitude III Package\n",
      "Altitude IV Package\n",
      "Aluminum Center Console Trim\n",
      "Aluminum Wheels\n",
      "Aluminum center console trim\n",
      "Aluminum door trim\n",
      "Aluminum/carbon fibre dash trim\n",
      "Am/Fm Radio: Siriusxm\n",
      "Am/Fm Stereo\n",
      "Am/Fm/Satellite-Prep Radio\n",
      "Ambient Lighting\n",
      "And Carfax Vehicle History Report. Th\n",
      "And Digital Display. This One Has Had One Owner From The Time It Was New. Is There Any Better Kind Of Used Vehicle To Buy? It Also Includes 24-Hour Towing/Roadside Assistance\n",
      "And Much More! Better Than New Jeep Certified 7 Year / 100,000 Mile Warranty Included. Come See Why Keller Bros Has Been In Business Since 1921. All Of Our Vehicles Have Been Through A Full Interior And Exterior Detail And Are Priced Competitively. If You Are Coming From A Distance Or Are Local But Having A Hard Time Fitting A Visit Into\n",
      "Android Auto\n",
      "Android Auto Smartphone Integration\n",
      "Anti Theft System\n",
      "Anti Theft/Security System\n",
      "Anti-Lock Brakes\n",
      "Anti-Lock Braking System\n",
      "Anti-Theft\n",
      "Anti-Theft Alarm System\n",
      "Anti-theft alarm system\n",
      "Anti-theft alarm system,\n",
      "Anti-whiplas\n",
      "Anti-whiplash fr\n",
      "Anti-whiplash front head rest\n",
      "Anti-whiplash front head restraints\n",
      "Antilock Brakes\n",
      "Apple CarPlay\n",
      "Apple CarPlay &amp; Android Auto\n",
      "Apple CarPlay &amp; Android Auto Smartphone Integration\n",
      "Apple CarPlay and Android Auto\n",
      "Assist Handle\n",
      "Audio - Antenna: Diversity\n",
      "Audio - Antenna: Mast\n",
      "Audio Auxiliary Input: IPod/IPhone Integration\n",
      "Audio Auxiliary Input: Jack\n",
      "Audio Auxiliary Input: USB\n",
      "Audio Controls On Steering Wheel\n",
      "Audio Memory\n",
      "Audio Steering Whee Controls\n",
      "Audio Steering Wheel Controls\n",
      "Audio System Memory Card Slot\n",
      "Audio System Premium Brand Speakers: Alpine\n",
      "Audio System Premium Brand Speakers: Bose\n",
      "Audio System Premium Brand Speakers: Bose Studio Surround\n",
      "Audio System Premium Brand Speakers: Harman/Kardon\n",
      "Audio System Premium Brand Speakers: harman/kardon\n",
      "Audio controls on steering wheel\n",
      "Audio memory\n",
      "Audio system featureBose Studio Surround Sound 14-speaker system with surround amplifier\n",
      "Audio system featureBose premium 8-speaker system\n",
      "Audio system featureBose premium 8-speaker system (Upgradeable to (UQS) Bose Studio Surround Sound 14-speaker system.)\n",
      "Audio system memory card slot\n",
      "Audio system security\n",
      "Aut\n",
      "Auto\n",
      "Auto Climate Cont\n",
      "Auto Climate Control\n",
      "Auto Dim Exterior Passenger Mirror\n",
      "Auto Express Down Window\n",
      "Auto High-beam Headlights\n",
      "Auto Leveling Headlights\n",
      "Auto Transmission w/Manual Mode\n",
      "Auto-\n",
      "Auto-D\n",
      "Auto-Dimmi\n",
      "Auto-Dimmin\n",
      "Auto-Dimming\n",
      "Auto-Dimming Exterior Passenger Mirror\n",
      "Auto-Dimming R\n",
      "Auto-Dimming Re\n",
      "Auto-Dimming Rea\n",
      "Auto-Dimming Rear-View Mirror\n",
      "Auto-Dimming Rearv\n",
      "Auto-Dimming Rearvi\n",
      "Auto-Dimming Rearview M\n",
      "Auto-Dimming Rearview Mi\n",
      "Auto-Dimming Rearview Mirror\n",
      "Auto-Dimming Rearview Mirror,\n",
      "Auto-Off Headlights\n",
      "Auto-dim\n",
      "Auto-dimmin\n",
      "Auto-dimming\n",
      "Auto-dimming Rear-View mirror\n",
      "Auto-dimming d\n",
      "Auto-dimming doo\n",
      "Auto-dimming door mirrors\n",
      "Automart_Bkp11022019 Automart_Bkp11032019 Automart_Bkp2032019_Latest Automartcpov_03192019.Txt Automartdataproperties.Sh Automartdataproperties.Sh_Bkp19022019 Automartdataproperties.Sh_Bkp27022019 Automartdataproperties.Sh_Fortesting_11032019 Automartdataproperties.Sh_Mdls Automartftpdetails.Src Automartsftpdetails.Src Autotraderftpdetails.Src Backups Bkp_Autotradercpov_02262019.Txt_Withoutmdls Bkp_Cpov_Inventory.Txt_19thfilereplaceback Carsguru.Src Cars.Src Cars.Src_Bkp19022019 Cars.Src_Org Cars.Src_Org_Bkp12022019 Cars.Src_Postdeployment Cpovflag.Src Cpov_Inventory.Txt Cpov_Inventory.Txt_Feb16 Cpov.Log Dealerinfocdl.Txt Dmi.Src Ebay.Src Edmunds.Src Extractcpovautomartdata.Sh Extractcpovautomartdata.Sh_Bkp Extractcpovautomartdata.Sh_Bkp19022019 Extractcpovautomartdata.Sh_Bkp27022019 Extractcpovautomartdata.Sh_Fortesting_11032019 Extractcpovautomartdata.Sh_Mdls Ftp.Log Genricsftp.Src Logsbackup19thmarfailure Ls Nohup.Out Psam_190316_103006.Txt Psam_190317_103006.Txt Psam_190318_103009.Txt Psam_Cut.Txt Records_Present_In_Cpov_Not_In_Autodata.Txt Temp.Tmp Test_Lftp V6 ***\n",
      "Automated Parking Sensors\n",
      "Automatic\n",
      "Automatic Climate Control\n",
      "Automatic Dual-Zone Climate Control\n",
      "Automatic Emergency Braking\n",
      "Automatic Front Air Conditi\n",
      "Automatic Front Air Conditioning\n",
      "Automatic Headlights\n",
      "Automatic High Beams\n",
      "Automatic Stop/Start\n",
      "Automatic Temperature Control\n",
      "Automatic Transmission\n",
      "Automatic Transmission w/Steering Wheel Mounted Paddle Shifters\n",
      "Automatic front air conditioning\n",
      "Automatic tem\n",
      "Automatic temperature\n",
      "Automatic temperature cont\n",
      "Automatic temperature contro\n",
      "Automatic temperature control\n",
      "Aux Audio Input Jack\n",
      "Aux. Audio Input\n",
      "Auxil\n",
      "Auxili\n",
      "Auxiliary Audio Input\n",
      "Auxiliary Input\n",
      "Auxiliary Input Jack\n",
      "Auxilliary Engine Cooler\n",
      "Auxilliary engine cooler\n",
      "BACK UP CAMERA\n",
      "BACK UP SONAR\n",
      "BACK-UP CAMERA\n",
      "BILLET METALLIC,\n",
      "BILLET SILVER METALLIC CLEARCOAT\n",
      "BLACK BLACK SUEDE SEATS W/BLACK STITCHING\n",
      "BLACK CLOTH LOW BACK BUCKET SEATS\n",
      "BLACK LEATHER TRIM SEATS W/EDGE WELTING,3.45 REAR AXLE RATIO,\n",
      "BLACK LEATHER TRIMMED BUCKET SEATS,3.45 REAR AXLE RATIO,\n",
      "BLACK LEATHER TRIMMED SEATS W/PERFORATED INSERTS\n",
      "BLACK/DARK SIENNA BROWNLEATHER TRIMMED BUCKET SEATS\n",
      "BLACKBLACK SUEDE SEATS W/BLACK STITCHING\n",
      "BLACKCLOTH LOW BACK BUCKET SEATS\n",
      "BLACKLEATHER TRIM SEATS W/EDGE WELTING\n",
      "BLACKLEATHER TRIM SEATS W/EDGE WELTING (HA)\n",
      "BLACKLEATHER TRIMMED BUCKET SEATS\n",
      "BLACKLEATHER TRIMMED HEATED FRONT BUCKET SEATS.....2nd Row Heated Seats....\n",
      "BLACKLEATHER TRIMMED SEATS W/PERFORATED INSERTS\n",
      "BLACKLEATHER TRIMMED SEATS-inc: #6 Seat Foam Cushion\n",
      "BLACKNAPPA LEATHER TRIMMED BUCKET SEATS-inc: #5 Seat Foam Cushion\n",
      "BLACKPREMIUM LEATHER TRIMMED BUCKET SEATS\n",
      "BLIND SPOT &amp; CROSS PATH DETECTION\n",
      "BLIND SPOT &amp; CROSS PATH DETECTION -inc: Auto Dim Exterior Passenger Mirror\n",
      "BLIND SPOT &amp; CROSS PATH DETECTION-inc: Auto Dim Exterior Passenger Mirror\n",
      "BLIND SPOT SENSOR\n",
      "BLUETOOTH\n",
      "BRIGHT WHITE CLEARCOAT\n",
      "BRIGHT WHITE CLEARCOAT,\n",
      "BRILLIANT BLACK CRYSTAL PEARLCOAT,\n",
      "BRONZE DUNE METALLIC\n",
      "Back Up Camera\n",
      "Back Up Camera &amp; Sensors\n",
      "Back-Up Camer\n",
      "Back-Up Camera\n",
      "Backup Camera\n",
      "Beverage cooler in glovebox\n",
      "Bi-Xenon HID Headlights\n",
      "Black Hood Decal\n",
      "Black Leather Suede Seats w/Black Stitching\n",
      "Black Side Windows Trim and Black Front Windshield Trim\n",
      "Black Suede Seats w/Black Stitching\n",
      "Blind Spot\n",
      "Blind Spot &amp; Cross Path Detection\n",
      "Blind Spot Monitor\n",
      "Blind Spot Monitor System\n",
      "Blind Spot Monitoring\n",
      "Blind Spot Monitoring System\n",
      "Blind Spot Sensor\n",
      "Blind Spot and Cross Path Detection\n",
      "Blind spot sensor: Lane Change Alert with Side Blind Zone Alert warning\n",
      "Blind spot sensor: warning\n",
      "Blind-Spot Monitoring\n",
      "Bluetooth\n",
      "Bluetooth Connection\n",
      "Bluetooth Connectivity\n",
      "Bluetooth Hands Free\n",
      "Bluetooth wireless phone connectivity\n",
      "Body Color Exterior Mirrors\n",
      "Body Color Grille w/Bronze Accent\n",
      "Body Side Moldings - Body-Color\n",
      "Body-Color Heated Power-Adjustable Outside Mirrors\n",
      "Body-Colored Door Handles\n",
      "Body-Colored Front Bumper w/Black Rub Strip/Fascia Accent\n",
      "Body-Colored Front Bumper w/Black Rub Strip/Fascia Accent and Chrome Bumper Insert\n",
      "Body-Colored Front Bumper w/Black Rub Strip/Fascia Accent,500 lbs\n",
      "Body-Colored Front Bumper w/Black Rub Strip/Fascia AccentChrome Bumper Insert and 2 Tow Hooks\n",
      "Body-Colored Front Bumper w/Black Rub Strip/Fascia AccentMetal-Look Bumper Insert and 2 Tow Hooks\n",
      "Body-Colored Grille w/Chrome Accents\n",
      "Body-Colored Power Heated Side Mirrors w/Manual Folding\n",
      "Body-Colored Rear Step Bumper w/Black Rub Strip/Fascia Accent\n",
      "Body-Colored Rear Step Bumper w/Black Rub Strip/Fascia Accent and Black Bumper Insert\n",
      "Body-Colored Rear Step Bumper w/Black Rub Strip/Fascia Accent and Chrome Bumper Insert\n",
      "Bodyside moldings\n",
      "Bose Audio\n",
      "Bose Audio System\n",
      "Bose Premium 8-Speaker Audio System Feature\n",
      "Bose Premium 8-Speaker Audio System Feature,4-Wheel Disc Brakes\n",
      "Bose Premium Audio System\n",
      "Bose Studio Surround Sound w/14 Speakers\n",
      "Bose Surround Sound System\n",
      "Bra\n",
      "Brake\n",
      "Brake Assist\n",
      "Brake assi\n",
      "Brake assist\n",
      "Brakes ABS\n",
      "Brakes4-wheel antilock4-wheel vented disc\n",
      "Brakesactive control\n",
      "Braking Assist\n",
      "Braking assist hill start as\n",
      "Bright Side Roof Rails\n",
      "Bucket\n",
      "Bucket Front Seats\n",
      "Bucket Seats\n",
      "Bucket front seats\n",
      "Bucket front seats,\n",
      "Bumpers: body-color\n",
      "CADILLAC CUE INFORMATION AND MEDIA CONTROL SYSTEM WITH EMBEDDED NAVIGATIONAM/FM STEREOwith 8 diagonal color information displayfour USB portstwo auxiliary power outletsauxiliary input jackNatural Voice Recognition and Phone Integration for Apple CarPlay and Android Auto capability for compatible phone\n",
      "CADILLAC CUE INFORMATION AND MEDIA CONTROL SYSTEM WITH EMBEDDED NAVIGATIONAM/FM STEREOwith 8diagonal color information displayfour USB portstwo auxiliary power outletsauxiliary input jackNatural Voice Recognition and Phone Integration for Apple CarPlay and Android Auto capability for compatible phone\n",
      "CADILLAC CUE INFORMATION AND MEDIA CONTROL SYSTEMAM/FM STEREOwith 8 diagonal color information displayfour USB portstwo auxiliary power outletsauxiliary input jackNatural Voice Recognition and Phone Integratio\n",
      "CADILLAC CUE INFORMATION AND MEDIA CONTROL SYSTEMAM/FM STEREOwith 8 diagonal color information displayfour USB portstwo auxiliary power outletsauxiliary input jackNatural Voice Recognition and Phone Integration for Apple CarPlay and Android Auto capability for compatible phone\n",
      "CADILLAC USER EXPERIENCE AM/FM STEREO WITH 8\n",
      "CADILLAC USER EXPERIENCE WITH EMBEDDED NAVIGATIONAM/FM STEREOwith 8 diagonal color information displayfour USB portstwo auxiliary power outletsauxiliary input jackNatural Voice Recognition and Phone Integration for Apple CarPlay and Android Auto capability for compatible phone\n",
      "CADILLAC USER EXPERIENCEAM/FM STEREOwith 8 diagonal color information displayfour USB portstwo auxiliary power outletsauxiliary input jackNatural Voice Recognition and Phone Integration for Apple CarPlay and Android Auto capability for compatible phone (STD)\n",
      "CARBON PLUMFULL LEATHER SEATS WITH MINI-PERFORATED INSERTSwith Jet Black accents Includes Black Olive Ash Burl wood trim.\n",
      "CARGO COMPARTMENT COVER\n",
      "CARGO NET LATERAL MESH\n",
      "CARGO NETLATERAL MESH\n",
      "CIRRUSLEATHER SEATING SURFACES WITH MINI-PERFORATED INSERTSwith Dark Titanium accents (With Diamond Cut aluminum trim.)\n",
      "CLIMATE CONTROLTRI-ZONE AUTOMATICwith individual climate settings for driverright-front passenger and rear passengers (includes rear air vents)\n",
      "CLIMATE CONTROLTRI-ZONE AUTOMATICwith individual climate settings for driverright-front passenger and rear passengers (includes rear air vents) Includes (KA6) heated rear seats.)\n",
      "CRUISE CONTROL\n",
      "CRYSTAL WHITE TRICOAT\n",
      "Cadillac CUE Information and Media Control SystemAM/FM stereo with 8 diagonal color information displayfour USB portstwo auxiliary power outletsauxiliary input jackNatural Voice Recognition and Phone Integration for Apple CarPlay and Android Auto capability for compatible phone\n",
      "Cadillac Connected Access with 10 years of standard connectivity which enables services such asVehicle DiagnosticsDealer Maintenance NotificationCadillac Smart DriverMarketplace and more EFFECTIVE WITH SALES STARTING 5/1/2018 (Limitations apply. Not transferable. Standard connectivity available to original purchaser for ten years from the date of initial vehicle purchase for model year 2018 or newer Cadillac vehicles. See onstar.com for details and further plan limitations. Connected Access does not include emergency or security services. Availability and additional services enabled by Connected Access are subject to change.)\n",
      "Cadillac user experience with embedded navigationAM/FM stereo with 8 diagonal color information displayfour USB portstwo auxiliary power outletsauxiliary input jackNatural Voice RecognitionPhone Integration for Apple CarPlay and Android Auto capability for compatible phoneConnected Apps and Teen Driver\n",
      "Car Rental Allowance\n",
      "Cargo Area Concealed Storage\n",
      "Cargo Area Light\n",
      "Child Safety Locks\n",
      "Chrome Bodyside InsertRocker Panel Extensions and Black Wheel Well Trim\n",
      "Chrome Bodyside InsertRocker Panel Extensions and Body-Colored Fender Flares\n",
      "Chrome Door Handles\n",
      "Chrome Exterior Mirrors\n",
      "Chrome Power w/Tilt Down Heated Side Mirrors w/Driver Auto DimmingManual Folding and Turn Signal Indicator\n",
      "Chrome Side Windows Trim and Black Front Windshield Trim\n",
      "Clearcoat Paint\n",
      "Climate control\n",
      "Climate controldual-zone automatic with individual climate settings for driver and front passenger\n",
      "Climate controldual-zone automatic with individual climate settings for driver and front passenger (Upgradeable to (CJ4) tri-zone automatic climate control.)\n",
      "Climate controlled - Hea\n",
      "Climate controltri-zone automatic with individual climate settings for driverright-front passenger and rear passengers (includes rear air vents)\n",
      "Clock\n",
      "Clock - In-radio display\n",
      "Cloth Seats\n",
      "Compact Spare Tire Mounted Inside Un\n",
      "Compact Spare Tire Mounted Inside Under Cargo\n",
      "Compass\n",
      "Compass,\n",
      "Control\n",
      "Cooled Driver Seat\n",
      "Cruise\n",
      "Cruise Control\n",
      "Cruise controlelectronic with set and resume speed\n",
      "Curtain 1st And 2nd Row Airbags\n",
      "DARK GRANITE METALLIC\n",
      "DEEP CHERRY RED CRYSTAL PEARLCOAT,3.45 REAR AXLE RATIO,\n",
      "DIAMOND BLACK CRYSTAL PEARLCOAT\n",
      "DOOR LOCK AND LATCH SHIELDS\n",
      "DRIVER A\n",
      "DRIVER AIR BAG\n",
      "DRIVER AWARENESS PACKAGEincludes (HS1) Safety Alert Seat(UEU) Forward Collision Alert(UE4) Following Distance Indicator(UHX) Lane Keep Assist with Lane Departure Warning(UKJ) Front Pedestrian Braking(UHY) Low Speed Forward Automatic Braking and (TQ5) IntelliBeam\n",
      "DRIVER AWARENESS PACKAGEincludes Safety Alert Seat(UEU) Forward Collision Alert(UE4) Following Distance Indicator(UHX) Lane Keep Assist with Lane Departure Warning(UKJ) front pedestrian detection(UHY) Front Automatic Braking and (TQ5) IntelliBeam headlamps\n",
      "DRIVER INFO SYSTEM\n",
      "DUAL AIRBAGS\n",
      "Daytime Running LampsLED\n",
      "Daytime Running Ligh\n",
      "Daytime running\n",
      "Deep Tinted Glass\n",
      "Defoggerrear-window electric with front and side window outlets for the driver and right-front passenger\n",
      "Dela\n",
      "Delay-\n",
      "Delay-off he\n",
      "Delay-off headli\n",
      "Delay-off headlights\n",
      "Diesel Engine\n",
      "Digital Odome\n",
      "Door lockspower programmable includes lockout protection and delayed locking\n",
      "Door locksrear child security\n",
      "Driv\n",
      "Drive\n",
      "Driver Knee Airbag\n",
      "Driver Memory Seat\n",
      "Driver Seat Memory\n",
      "Driver Seat Memory Settings\n",
      "Driver door bin\n",
      "Driver vanity\n",
      "Drivetrain All Wheel Drive\n",
      "Drivetrain Four Wheel Drive\n",
      "Du\n",
      "Dual Airbags\n",
      "Dual Brig\n",
      "Dual Climate Control\n",
      "Dual Stage Drive\n",
      "Dual Stage Driver And Passenger Front Airbags\n",
      "Dual Stage Driver And Passenger Seat-Mounted Side Airbags\n",
      "Dual-Pane Panoramic Sunroof\n",
      "Dual-Zone Automatic Climate Control\n",
      "EMISFED REQ\n",
      "ENGINE BLOCK HEATER\n",
      "ENGINE3.6L V6DIVVTWITH AUTOMATIC STOP/START(310 hp [231 kW] @ 6600 rpm271 lb-ft of torque [366 N-m] @ 5000 rpm) (STD)\n",
      "ENGINE: 3.6L V6 24V VVT UPG I W/ESS\n",
      "ENGINE: 3.6L V6 24V VVT UPG I W/ESS (STD)\n",
      "ENGINE: 3.6L V6 24V VVT UPG I W/ESS(STD)\n",
      "ENGINE: 3.6L V6 24V VVT,\n",
      "ENGINE: 5.7L V8 MDS VVT-inc: GVWR: 6 800 lbs230MM Rear Axle3.09 Rear Axle Ratio700 Amp Maintenance Free BatteryAnti-Lock 4-Wheel Disc HD BrakesDual Bright Exhaust Tips\n",
      "ENGINE: 5.7L V8 MDS VVT-inc: GVWR: 6 800 lbs230MM Rear Axle3.09 Rear Axle RatioAnti-Lock 4-Wheel Disc HD BrakesDual Bright Exhaust Tips\n",
      "Electric Parking Brake\n",
      "Electronic Stability Control (ESC) And Roll Stability Control (RSC)\n",
      "Engine Displacement 3.6 L/220\n",
      "Engine Displacement 3.6L/222.6\n",
      "Engine V6 Cylinder Engine\n",
      "Engine3.6l v6DiVvtWith automatic stop/start (310 hp [231 kW] @ 6600 rpm271 lb-ft of torque [366 N-m] @ 5000 rpm) Transmission8-speed automatic Luxury preferred equipment group Includes Standard Equipment Wheels18in x 8in (45.7 cm x 20.3 cm) bright machined faced with Light Argent accents TiresP235/65r18 all-seasonH-ratedBlackwall Bronze dune metallic ($625.00 Value When New) SeatsFront bucket includes 8-way power driver seat adjuster Sahara beigeLeather seating surfaces with mini-perforated inserts with Jet Black accents Cadillac user experience with embedded navigationAm/fm stereo with 8in diagonal color information displayfour USB portstwo auxiliary power outletsauxiliary input jackNatural Voice RecognitionPhone Integration for Apple CarPlay and Android Auto capability for compatible phoneConnected Apps and Teen Driver ($1075.00 Value When New) LpoInterior protection package includes (CAV) All-Weather Cargo TrayLPO and (VAV) All-WeatherLPO ($280.00 Value When New) TireCompact spare includes lateral cargo net ($350.00 Value When New) Audio system featureBose studio surround sound 14-speaker system with surround amplifier Cargo netLateral mesh LpoAll-weather cargo tray ($185.00 Value When New) Tool kitRoad emergencySunroofpower UltraView double-sized glass roof that opens over first rowtilt-sliding with Express-Open and power sunshade Headlampshalogen (Upgradeable to (T4L) LED headlamps when (IO6) Cadillac user experience with embedded navigation is ordered.) Mirrorsoutside heatedpower-adjustablepower-folding and driver-side auto-dimmingbody-color Liftgaterear power with memory height Seatsheated driver and front passenger Steering wheelleather-wrapped Steering wheelheatedautomatic All-wheel drivewith twin-clutch system with driver mode select Suspension4-wheel independent Brakes4-wheel antilock4-wheel vented disc Rear Vision Camera Tire Pressure Monitoring System\n",
      "Engine3.6l v6DiVvtWith automatic stop/start (310 hp [231 kW] @ 6600 rpm271 lb-ft of torque [366 N-m] @ 5000 rpm) Transmission8-speed automatic Platinum preferred equipment group Includes Standard Equipment Wheels20in x 8in (50.8 cm x 20.3 cm) 12-spoke fully polished Crystal white tricoat ($600.00 Value When New) SeatsFront bucket includes 8-way power driver seat adjuster Maple sugarSemi-aniline full leather seats with chevron perforated inserts with Jet Black accents Cadillac user experience with embedded navigationAm/fm stereo with 8in diagonal color information displayfour USB portstwo auxiliary power outletsauxiliary input jackNatural Voice Recognition and Phone Integration for Apple CarPlay and Android Auto capability for compatible phone Driver assist package includes (KSG) adaptive cruise control(AX7) Automatic Safety Belt Tightening(UFQ) Automatic Parking Assist(UGN) Automatic Collision Braking and (UVZ) Forward/Reverse Automatic Braking ($1595.00 Value When New) LpoInterior protection package includes (CAV) All-Weather Cargo TrayLPO and (VAV) All-WeatherLPO ($280.00 Value When New) TireCompact spare includes lateral cargo net ($350.00 Value When New) Cruise controlAadaptiveFull-speed rangeReverts to cruise control Cargo netLateral mesh LpoAll-weather cargo tray ($185.00 Value When New) Automatic collision braking Automatic parking assist includes frontrearlateral-front parking assist and semi-automatic steering Forward/reverse automatic braking Automatic safety belt tightening Tool kitRoad emergencySunroofpower UltraView double-sized glass roof that opens over first rowtilt-sliding with Express-Open and power sunshade Mirrorsoutside heatedpower-adjustablepower-folding and driver-side auto-dimmingbody-color Hands-Free Liftgateopen and closeprogrammable memory height Seatsheated rear outboard seating positions Steering wheelleather-wrapped Steering wheelheatedautomatic All-wheel drivewith twin-clutch system with driver mode select Brakes4-wheel antilock4-wheel\n",
      "Engine: 3.6l V6 24v Vvt Upg I W/Ess (Std)\n",
      "Engine: 3.6l v6 24v vvt upg i w/ess\n",
      "Engine: 6.4l V8 Srt Hemi Mds (Std)\n",
      "Extended Warranty Available\n",
      "FOLLOWING DISTANCE INDICATOR\n",
      "FORWARD COLLISION ALERT\n",
      "FRONT LICENSE PLATE BRACKET\n",
      "FRONT PEDESTRIAN BRAKING\n",
      "FULL SIZE SPARE TIRE -inc: Steel Spare Wheel\n",
      "FULL SIZE SPARE TIRE-inc: Steel Spare Wheel\n",
      "Fog Lights\n",
      "Following Distance Indicator\n",
      "Forward Collision Alert\n",
      "Fou\n",
      "Four Wheel Drive\n",
      "Four Wheel Drive!!!\n",
      "Four Wheel Independent Suspension\n",
      "Front Dual Zone A/C\n",
      "GRANITE CRYSTAL METALLIC CLEARCOAT\n",
      "GVWR: 6 500 LBS\n",
      "GVWR: 6 500 LBS(STD)\n",
      "GVWR: 6 800 LBS\n",
      "Galvanized Steel/Aluminum Panels\n",
      "Gloveboxlockable\n",
      "Google Android Auto\n",
      "Gps Antenna Input\n",
      "Gps Navigation\n",
      "Granite crystal metallic clearcoat\n",
      "Gvwr: 6 500 lbs\n",
      "HD Radio\n",
      "Harman/Kardon Audio\n",
      "Heated &amp; Cooled Leather Seats\n",
      "Heated Front Seats\n",
      "Heated Front and Rear Seats\n",
      "Heated Seats\n",
      "Heated Steering Wheel\n",
      "Heated and Ventilated Front Seats\n",
      "Hill Start Assist\n",
      "HomeLink\n",
      "Integrated Voice Command W/Bluetooth\n",
      "Jeep Certified - Carfax One Owner - Leather - Navigation - 20 Inch Wheels Automart_Bkp11022019 Automart_Bkp11032019 Automart_Bkp2032019_Latest Automartcpov_03192019.Txt Automartdataproperties.Sh Automartdataproperties.Sh_Bkp19022019 Automartdataproperties.Sh_Bkp27022019 Automartdataproperties.Sh_Fortesting_11032019 Automartdataproperties.Sh_Mdls Automartftpdetails.Src Automartsftpdetails.Src Autotraderftpdetails.Src Backups Bkp_Autotradercpov_02262019.Txt_Withoutmdls Bkp_Cpov_Inventory.Txt_19thfilereplaceback Carsguru.Src Cars.Src Cars.Src_Bkp19022019 Cars.Src_Org Cars.Src_Org_Bkp12022019 Cars.Src_Postdeployment Cpovflag.Src Cpov_Inventory.Txt Cpov_Inventory.Txt_Feb16 Cpov.Log Dealerinfocdl.Txt Dmi.Src Ebay.Src Edmunds.Src Extractcpovautomartdata.Sh Extractcpovautomartdata.Sh_Bkp Extractcpovautomartdata.Sh_Bkp19022019 Extractcpovautomartdata.Sh_Bkp27022019 Extractcpovautomartdata.Sh_Fortesting_11032019 Extractcpovautomartdata.Sh_Mdls Ftp.Log Genricsftp.Src Logsbackup19thmarfailure Ls Nohup.Out Psam_190316_103006.Txt Psam_190317_103006.Txt Psam_190318_103009.Txt Psam_Cut.Txt Records_Present_In_Cpov_Not_In_Autodata.Txt Temp.Tmp Test_Lftp Only One Previous Owner Automart_Bkp11022019 Automart_Bkp11032019 Automart_Bkp2032019_Latest Automartcpov_03192019.Txt Automartdataproperties.Sh Automartdataproperties.Sh_Bkp19022019 Automartdataproperties.Sh_Bkp27022019 Automartdataproperties.Sh_Fortesting_11032019 Automartdataproperties.Sh_Mdls Automartftpdetails.Src Automartsftpdetails.Src Autotraderftpdetails.Src Backups Bkp_Autotradercpov_02262019.Txt_Withoutmdls Bkp_Cpov_Inventory.Txt_19thfilereplaceback Carsguru.Src Cars.Src Cars.Src_Bkp19022019 Cars.Src_Org Cars.Src_Org_Bkp12022019 Cars.Src_Postdeployment Cpovflag.Src Cpov_Inventory.Txt Cpov_Inventory.Txt_Feb16 Cpov.Log Dealerinfocdl.Txt Dmi.Src Ebay.Src Edmunds.Src Extractcpovautomartdata.Sh Extractcpovautomartdata.Sh_Bkp Extractcpovautomartdata.Sh_Bkp19022019 Extractcpovautomartdata.Sh_Bkp27022019 Extractcpovautomartdata.Sh_\n",
      "Just In! One Owner - **Certified** 4x4 Overland Edition\n",
      "Keyless Enter-N-Go\n",
      "Keyless Entry\n",
      "Keyless Entry/Ignition\n",
      "Latit,4x4\n",
      "Leather\n",
      "Leather Seats\n",
      "Ltd\n",
      "Ltd,4wd\n",
      "Lthr\n",
      "Luggage Rack\n",
      "Lux2\n",
      "Luxury Group Ii -Inc: Ventilated Front Seats Bi-Xenon Hid Headlamps Auto High Beam Headlamp Control Rain Sensitive Windshield Wipers Led Daytime Running Headlamps 9 Amplified Speakers W/Subwoofer 506 Watt Amplifier Power Tilt/Telescope Steering Column Cargo Compartment Cover Automatic Headlamp Leveling System Dual-Pane Panoramic Sunroof Led Fog Lamps Radio: Uconnect 3c W/8.4 Display Nav-Capable! See Dealer For Details Uc\n",
      "Manager&#x27;S Special!\n",
      "Memory Seat\n",
      "Moon\n",
      "Must See!\n",
      "NORMAL DUTY SUSPENSION ......\n",
      "Navigation\n",
      "Navigation System\n",
      "Navigation System Touc\n",
      "Number Of Front Headrests 2\n",
      "Number Of Rear Headrests 2\n",
      "One-Touch Windows: 2\n",
      "Outboard Front Lap And Shoulder Safety Belts -inc: Rear Center 3 PointHeight Adjusters and Pretensioners\n",
      "Ovlnd\n",
      "PASSENGER\n",
      "POWER SUNROOF\n",
      "POWER SUNROOF.......\n",
      "ParkSense Rear Parking Sensors\n",
      "ParkSense Rear Parking Sensors......\n",
      "ParkView BACK-UP CAMERA....REVERSE SENSING.....\n",
      "Power Sunroof\n",
      "Quick Order Package 27n Srt Night -Inc: Engine: 6.4l V8 Srt Hemi Mds Transmission: 8-Speed Automatic (8hp70) (Dfk) Advanced Srt Multistage Front Air Bags Black Roof Srt Black Sill W/Platinum Chrome Black Chrome/Silver Anodized Interior Accents Perforated Leather Shift Knob Rear Black Spoiler Black Velour Floor Mats W/Srt Logo Satin Blac\n",
      "RADIO: UCONNECT 3C W/8.4 DISPLAY....NAVIGATION..... 8.4 Touchscreen DisplayRoadside Assistance &amp; 9-1-1 CallIntegrated Voice Command w/Bluetooth.......\n",
      "Spoiler rear\n",
      "Srt High Performance Audio -Inc: 19 Speakers High Performance Audio 825 Watt Amplifier\n",
      "Steering Electric Power Steering (EPS) assist\n",
      "Steering column power tilt and telescoping\n",
      "Steering wheel heated automatic\n",
      "Steering wheel leather-wrapped\n",
      "Sunroof power UltraView double-sized glass roof that opens over first row tilt-sliding with Express-Open and power sunshade\n",
      "Suspension 4-wheel independent\n",
      "Test\n",
      "Transmission: 8-Speed Automatic (845re) (Std)\n",
      "Transmission: 8-Speed Automatic (8hp70) (Dfk) (Std)\n",
      "a/c,8-speed a/t,4-wheel disc brakes,4-wheel abs\n",
      "abs (4-wheel)\n",
      "abs brakes\n",
      "abs brakes,4-wheel disc brakes,17in x 8.0in aluminum wheels,000 mile coverage ***\n",
      "abs brakes,8 speakers,4-wheel independent suspension,4-wheel disc b\n",
      "abs brakes,8 speakers,4-wheel independent suspension,4-wheel disc brakes,3.20 axle ratio\n",
      "active suspension system,8-speed a/t,4-wheel disc brakes,4-wheel abs\n",
      "adjustable foot pedals\n",
      "adjustable pedals\n",
      "adjustable steering wheel\n",
      "adjustable steering wheel,8-speed a/t,4-wheel disc brakes,4-wheel abs\n",
      "air bags: dual front\n",
      "air bags: f&amp;r head curtain\n",
      "air bags: knee\n",
      "air conditioned seats\n",
      "air conditioning\n",
      "air conditioning with dual zone climate control,8-way power adjustable drivers seat,4-wheel abs brakes,4 doors,310 hp horsepower,3.6 liter v6 dohc engine\n",
      "air conditioning,4-wheel disc brakes,12v power outl\n",
      "air conditioning: rear\n",
      "airbag - driver\n",
      "airbag - passenger\n",
      "alarm system\n",
      "all wheel drive\n",
      "all-wheel drive\n",
      "alloy wheels\n",
      "aluminum wheels\n",
      "am/fm\n",
      "am/fm radio\n",
      "am/fm radio: siriusxm\n",
      "am/fm stereo\n",
      "anti-lock brakes\n",
      "anti-whiplash front head restraints\n",
      "audio controls on steering wheel\n",
      "audio memory\n",
      "auto transmission w/manual\n",
      "auto-off headlights\n",
      "automatic temperature control\n",
      "automatic transmission\n",
      "back up cam,4x4,20 inch alloy wheels\n",
      "bose premium 8-speaker a\n",
      "br\n",
      "brake ass\n",
      "delay-off headli\n",
      "driver adjustable lumba\n",
      " Accident(s) Reported\n",
      " Buyback Protection Eligible\n",
      " Non-Personal Use Reported\n",
      " Title Issue(s) Reported\n",
      "0 Owners\n",
      "1 Owner\n",
      "2 Owners\n",
      "3 Owners\n",
      "4 Owners\n"
     ]
    }
   ],
   "source": [
    "for i in X.columns:\n",
    "   print(i) "
   ]
  },
  {
   "cell_type": "code",
   "execution_count": 20,
   "id": "fa66ec65",
   "metadata": {},
   "outputs": [],
   "source": [
    "#X_clean = price_train_final_df.drop('Dealer_Listing_Price',axis=1)\n",
    "#y_clean = price_train_final_df['Dealer_Listing_Price']"
   ]
  },
  {
   "cell_type": "code",
   "execution_count": 122,
   "id": "122cdc12",
   "metadata": {},
   "outputs": [],
   "source": [
    "y = price_train_final_df['Dealer_Listing_Price']"
   ]
  },
  {
   "cell_type": "code",
   "execution_count": 123,
   "id": "5b43aad9",
   "metadata": {},
   "outputs": [],
   "source": [
    "from sklearn.model_selection import train_test_split"
   ]
  },
  {
   "cell_type": "code",
   "execution_count": 124,
   "id": "b79a14a8",
   "metadata": {},
   "outputs": [],
   "source": [
    "X_train, X_test, y_train, y_test = train_test_split(X, y, test_size=0.10, random_state=101)"
   ]
  },
  {
   "cell_type": "code",
   "execution_count": 125,
   "id": "29aa6106",
   "metadata": {},
   "outputs": [],
   "source": [
    "from sklearn.preprocessing import StandardScaler"
   ]
  },
  {
   "cell_type": "code",
   "execution_count": 126,
   "id": "b174f05b",
   "metadata": {},
   "outputs": [],
   "source": [
    "scaler = StandardScaler()"
   ]
  },
  {
   "cell_type": "code",
   "execution_count": 127,
   "id": "a3ba21e0",
   "metadata": {},
   "outputs": [],
   "source": [
    "scaled_X_train = scaler.fit_transform(X_train)\n",
    "scaled_X_test = scaler.transform(X_test)"
   ]
  },
  {
   "cell_type": "code",
   "execution_count": 128,
   "id": "743c9370",
   "metadata": {},
   "outputs": [
    {
     "data": {
      "text/plain": [
       "((5668, 957), (630, 957))"
      ]
     },
     "execution_count": 128,
     "metadata": {},
     "output_type": "execute_result"
    }
   ],
   "source": [
    "scaled_X_train.shape, scaled_X_test.shape"
   ]
  },
  {
   "cell_type": "code",
   "execution_count": 129,
   "id": "cb37804b",
   "metadata": {},
   "outputs": [],
   "source": [
    "from sklearn.linear_model import ElasticNet"
   ]
  },
  {
   "cell_type": "code",
   "execution_count": 130,
   "id": "593c160f",
   "metadata": {},
   "outputs": [],
   "source": [
    "base_elastic_model = ElasticNet()"
   ]
  },
  {
   "cell_type": "code",
   "execution_count": 131,
   "id": "e955e45a",
   "metadata": {},
   "outputs": [],
   "source": [
    "param_grid = {'alpha':[0.1,1,5,10,50,100],\n",
    "              'l1_ratio':[.1, .5, .7, .9, .95, .99, 1]}"
   ]
  },
  {
   "cell_type": "code",
   "execution_count": 132,
   "id": "817c5da6",
   "metadata": {},
   "outputs": [],
   "source": [
    "from sklearn.model_selection import GridSearchCV"
   ]
  },
  {
   "cell_type": "code",
   "execution_count": 133,
   "id": "60222558",
   "metadata": {},
   "outputs": [],
   "source": [
    "grid_model = GridSearchCV(estimator=base_elastic_model,\n",
    "                          param_grid=param_grid,\n",
    "                          scoring='neg_mean_squared_error',\n",
    "                          cv=5,\n",
    "                          verbose=1)"
   ]
  },
  {
   "cell_type": "code",
   "execution_count": 134,
   "id": "e6d32259",
   "metadata": {},
   "outputs": [
    {
     "name": "stdout",
     "output_type": "stream",
     "text": [
      "Fitting 5 folds for each of 42 candidates, totalling 210 fits\n"
     ]
    },
    {
     "name": "stderr",
     "output_type": "stream",
     "text": [
      "/usr/local/anaconda3/lib/python3.11/site-packages/sklearn/linear_model/_coordinate_descent.py:628: ConvergenceWarning: Objective did not converge. You might want to increase the number of iterations, check the scale of the features or consider increasing regularisation. Duality gap: 1.134e+09, tolerance: 2.646e+07\n",
      "  model = cd_fast.enet_coordinate_descent(\n",
      "/usr/local/anaconda3/lib/python3.11/site-packages/sklearn/linear_model/_coordinate_descent.py:628: ConvergenceWarning: Objective did not converge. You might want to increase the number of iterations, check the scale of the features or consider increasing regularisation. Duality gap: 1.167e+09, tolerance: 2.471e+07\n",
      "  model = cd_fast.enet_coordinate_descent(\n",
      "/usr/local/anaconda3/lib/python3.11/site-packages/sklearn/linear_model/_coordinate_descent.py:628: ConvergenceWarning: Objective did not converge. You might want to increase the number of iterations, check the scale of the features or consider increasing regularisation. Duality gap: 1.435e+09, tolerance: 2.623e+07\n",
      "  model = cd_fast.enet_coordinate_descent(\n",
      "/usr/local/anaconda3/lib/python3.11/site-packages/sklearn/linear_model/_coordinate_descent.py:628: ConvergenceWarning: Objective did not converge. You might want to increase the number of iterations, check the scale of the features or consider increasing regularisation. Duality gap: 1.058e+09, tolerance: 2.523e+07\n",
      "  model = cd_fast.enet_coordinate_descent(\n",
      "/usr/local/anaconda3/lib/python3.11/site-packages/sklearn/linear_model/_coordinate_descent.py:628: ConvergenceWarning: Objective did not converge. You might want to increase the number of iterations, check the scale of the features or consider increasing regularisation. Duality gap: 6.898e+08, tolerance: 2.528e+07\n",
      "  model = cd_fast.enet_coordinate_descent(\n",
      "/usr/local/anaconda3/lib/python3.11/site-packages/sklearn/linear_model/_coordinate_descent.py:628: ConvergenceWarning: Objective did not converge. You might want to increase the number of iterations, check the scale of the features or consider increasing regularisation. Duality gap: 3.629e+09, tolerance: 2.646e+07\n",
      "  model = cd_fast.enet_coordinate_descent(\n",
      "/usr/local/anaconda3/lib/python3.11/site-packages/sklearn/linear_model/_coordinate_descent.py:628: ConvergenceWarning: Objective did not converge. You might want to increase the number of iterations, check the scale of the features or consider increasing regularisation. Duality gap: 4.521e+09, tolerance: 2.471e+07\n",
      "  model = cd_fast.enet_coordinate_descent(\n",
      "/usr/local/anaconda3/lib/python3.11/site-packages/sklearn/linear_model/_coordinate_descent.py:628: ConvergenceWarning: Objective did not converge. You might want to increase the number of iterations, check the scale of the features or consider increasing regularisation. Duality gap: 5.991e+09, tolerance: 2.623e+07\n",
      "  model = cd_fast.enet_coordinate_descent(\n",
      "/usr/local/anaconda3/lib/python3.11/site-packages/sklearn/linear_model/_coordinate_descent.py:628: ConvergenceWarning: Objective did not converge. You might want to increase the number of iterations, check the scale of the features or consider increasing regularisation. Duality gap: 5.161e+09, tolerance: 2.523e+07\n",
      "  model = cd_fast.enet_coordinate_descent(\n",
      "/usr/local/anaconda3/lib/python3.11/site-packages/sklearn/linear_model/_coordinate_descent.py:628: ConvergenceWarning: Objective did not converge. You might want to increase the number of iterations, check the scale of the features or consider increasing regularisation. Duality gap: 4.520e+09, tolerance: 2.528e+07\n",
      "  model = cd_fast.enet_coordinate_descent(\n",
      "/usr/local/anaconda3/lib/python3.11/site-packages/sklearn/linear_model/_coordinate_descent.py:628: ConvergenceWarning: Objective did not converge. You might want to increase the number of iterations, check the scale of the features or consider increasing regularisation. Duality gap: 3.544e+09, tolerance: 2.646e+07\n",
      "  model = cd_fast.enet_coordinate_descent(\n",
      "/usr/local/anaconda3/lib/python3.11/site-packages/sklearn/linear_model/_coordinate_descent.py:628: ConvergenceWarning: Objective did not converge. You might want to increase the number of iterations, check the scale of the features or consider increasing regularisation. Duality gap: 3.367e+09, tolerance: 2.471e+07\n",
      "  model = cd_fast.enet_coordinate_descent(\n",
      "/usr/local/anaconda3/lib/python3.11/site-packages/sklearn/linear_model/_coordinate_descent.py:628: ConvergenceWarning: Objective did not converge. You might want to increase the number of iterations, check the scale of the features or consider increasing regularisation. Duality gap: 4.120e+09, tolerance: 2.623e+07\n",
      "  model = cd_fast.enet_coordinate_descent(\n",
      "/usr/local/anaconda3/lib/python3.11/site-packages/sklearn/linear_model/_coordinate_descent.py:628: ConvergenceWarning: Objective did not converge. You might want to increase the number of iterations, check the scale of the features or consider increasing regularisation. Duality gap: 5.764e+09, tolerance: 2.523e+07\n",
      "  model = cd_fast.enet_coordinate_descent(\n",
      "/usr/local/anaconda3/lib/python3.11/site-packages/sklearn/linear_model/_coordinate_descent.py:628: ConvergenceWarning: Objective did not converge. You might want to increase the number of iterations, check the scale of the features or consider increasing regularisation. Duality gap: 5.144e+09, tolerance: 2.528e+07\n",
      "  model = cd_fast.enet_coordinate_descent(\n",
      "/usr/local/anaconda3/lib/python3.11/site-packages/sklearn/linear_model/_coordinate_descent.py:628: ConvergenceWarning: Objective did not converge. You might want to increase the number of iterations, check the scale of the features or consider increasing regularisation. Duality gap: 8.684e+09, tolerance: 2.646e+07\n",
      "  model = cd_fast.enet_coordinate_descent(\n",
      "/usr/local/anaconda3/lib/python3.11/site-packages/sklearn/linear_model/_coordinate_descent.py:628: ConvergenceWarning: Objective did not converge. You might want to increase the number of iterations, check the scale of the features or consider increasing regularisation. Duality gap: 8.061e+09, tolerance: 2.471e+07\n",
      "  model = cd_fast.enet_coordinate_descent(\n",
      "/usr/local/anaconda3/lib/python3.11/site-packages/sklearn/linear_model/_coordinate_descent.py:628: ConvergenceWarning: Objective did not converge. You might want to increase the number of iterations, check the scale of the features or consider increasing regularisation. Duality gap: 8.029e+09, tolerance: 2.623e+07\n",
      "  model = cd_fast.enet_coordinate_descent(\n",
      "/usr/local/anaconda3/lib/python3.11/site-packages/sklearn/linear_model/_coordinate_descent.py:628: ConvergenceWarning: Objective did not converge. You might want to increase the number of iterations, check the scale of the features or consider increasing regularisation. Duality gap: 8.613e+09, tolerance: 2.523e+07\n",
      "  model = cd_fast.enet_coordinate_descent(\n",
      "/usr/local/anaconda3/lib/python3.11/site-packages/sklearn/linear_model/_coordinate_descent.py:628: ConvergenceWarning: Objective did not converge. You might want to increase the number of iterations, check the scale of the features or consider increasing regularisation. Duality gap: 8.969e+09, tolerance: 2.528e+07\n",
      "  model = cd_fast.enet_coordinate_descent(\n",
      "/usr/local/anaconda3/lib/python3.11/site-packages/sklearn/linear_model/_coordinate_descent.py:628: ConvergenceWarning: Objective did not converge. You might want to increase the number of iterations, check the scale of the features or consider increasing regularisation. Duality gap: 2.712e+07, tolerance: 2.646e+07\n",
      "  model = cd_fast.enet_coordinate_descent(\n",
      "/usr/local/anaconda3/lib/python3.11/site-packages/sklearn/linear_model/_coordinate_descent.py:628: ConvergenceWarning: Objective did not converge. You might want to increase the number of iterations, check the scale of the features or consider increasing regularisation. Duality gap: 2.720e+07, tolerance: 2.471e+07\n",
      "  model = cd_fast.enet_coordinate_descent(\n",
      "/usr/local/anaconda3/lib/python3.11/site-packages/sklearn/linear_model/_coordinate_descent.py:628: ConvergenceWarning: Objective did not converge. You might want to increase the number of iterations, check the scale of the features or consider increasing regularisation. Duality gap: 2.572e+07, tolerance: 2.523e+07\n",
      "  model = cd_fast.enet_coordinate_descent(\n"
     ]
    },
    {
     "name": "stderr",
     "output_type": "stream",
     "text": [
      "/usr/local/anaconda3/lib/python3.11/site-packages/sklearn/linear_model/_coordinate_descent.py:628: ConvergenceWarning: Objective did not converge. You might want to increase the number of iterations, check the scale of the features or consider increasing regularisation. Duality gap: 3.151e+08, tolerance: 2.646e+07\n",
      "  model = cd_fast.enet_coordinate_descent(\n",
      "/usr/local/anaconda3/lib/python3.11/site-packages/sklearn/linear_model/_coordinate_descent.py:628: ConvergenceWarning: Objective did not converge. You might want to increase the number of iterations, check the scale of the features or consider increasing regularisation. Duality gap: 4.259e+08, tolerance: 2.471e+07\n",
      "  model = cd_fast.enet_coordinate_descent(\n",
      "/usr/local/anaconda3/lib/python3.11/site-packages/sklearn/linear_model/_coordinate_descent.py:628: ConvergenceWarning: Objective did not converge. You might want to increase the number of iterations, check the scale of the features or consider increasing regularisation. Duality gap: 3.314e+08, tolerance: 2.623e+07\n",
      "  model = cd_fast.enet_coordinate_descent(\n",
      "/usr/local/anaconda3/lib/python3.11/site-packages/sklearn/linear_model/_coordinate_descent.py:628: ConvergenceWarning: Objective did not converge. You might want to increase the number of iterations, check the scale of the features or consider increasing regularisation. Duality gap: 1.150e+09, tolerance: 2.523e+07\n",
      "  model = cd_fast.enet_coordinate_descent(\n",
      "/usr/local/anaconda3/lib/python3.11/site-packages/sklearn/linear_model/_coordinate_descent.py:628: ConvergenceWarning: Objective did not converge. You might want to increase the number of iterations, check the scale of the features or consider increasing regularisation. Duality gap: 1.217e+09, tolerance: 2.528e+07\n",
      "  model = cd_fast.enet_coordinate_descent(\n"
     ]
    },
    {
     "data": {
      "text/html": [
       "<style>#sk-container-id-1 {color: black;}#sk-container-id-1 pre{padding: 0;}#sk-container-id-1 div.sk-toggleable {background-color: white;}#sk-container-id-1 label.sk-toggleable__label {cursor: pointer;display: block;width: 100%;margin-bottom: 0;padding: 0.3em;box-sizing: border-box;text-align: center;}#sk-container-id-1 label.sk-toggleable__label-arrow:before {content: \"▸\";float: left;margin-right: 0.25em;color: #696969;}#sk-container-id-1 label.sk-toggleable__label-arrow:hover:before {color: black;}#sk-container-id-1 div.sk-estimator:hover label.sk-toggleable__label-arrow:before {color: black;}#sk-container-id-1 div.sk-toggleable__content {max-height: 0;max-width: 0;overflow: hidden;text-align: left;background-color: #f0f8ff;}#sk-container-id-1 div.sk-toggleable__content pre {margin: 0.2em;color: black;border-radius: 0.25em;background-color: #f0f8ff;}#sk-container-id-1 input.sk-toggleable__control:checked~div.sk-toggleable__content {max-height: 200px;max-width: 100%;overflow: auto;}#sk-container-id-1 input.sk-toggleable__control:checked~label.sk-toggleable__label-arrow:before {content: \"▾\";}#sk-container-id-1 div.sk-estimator input.sk-toggleable__control:checked~label.sk-toggleable__label {background-color: #d4ebff;}#sk-container-id-1 div.sk-label input.sk-toggleable__control:checked~label.sk-toggleable__label {background-color: #d4ebff;}#sk-container-id-1 input.sk-hidden--visually {border: 0;clip: rect(1px 1px 1px 1px);clip: rect(1px, 1px, 1px, 1px);height: 1px;margin: -1px;overflow: hidden;padding: 0;position: absolute;width: 1px;}#sk-container-id-1 div.sk-estimator {font-family: monospace;background-color: #f0f8ff;border: 1px dotted black;border-radius: 0.25em;box-sizing: border-box;margin-bottom: 0.5em;}#sk-container-id-1 div.sk-estimator:hover {background-color: #d4ebff;}#sk-container-id-1 div.sk-parallel-item::after {content: \"\";width: 100%;border-bottom: 1px solid gray;flex-grow: 1;}#sk-container-id-1 div.sk-label:hover label.sk-toggleable__label {background-color: #d4ebff;}#sk-container-id-1 div.sk-serial::before {content: \"\";position: absolute;border-left: 1px solid gray;box-sizing: border-box;top: 0;bottom: 0;left: 50%;z-index: 0;}#sk-container-id-1 div.sk-serial {display: flex;flex-direction: column;align-items: center;background-color: white;padding-right: 0.2em;padding-left: 0.2em;position: relative;}#sk-container-id-1 div.sk-item {position: relative;z-index: 1;}#sk-container-id-1 div.sk-parallel {display: flex;align-items: stretch;justify-content: center;background-color: white;position: relative;}#sk-container-id-1 div.sk-item::before, #sk-container-id-1 div.sk-parallel-item::before {content: \"\";position: absolute;border-left: 1px solid gray;box-sizing: border-box;top: 0;bottom: 0;left: 50%;z-index: -1;}#sk-container-id-1 div.sk-parallel-item {display: flex;flex-direction: column;z-index: 1;position: relative;background-color: white;}#sk-container-id-1 div.sk-parallel-item:first-child::after {align-self: flex-end;width: 50%;}#sk-container-id-1 div.sk-parallel-item:last-child::after {align-self: flex-start;width: 50%;}#sk-container-id-1 div.sk-parallel-item:only-child::after {width: 0;}#sk-container-id-1 div.sk-dashed-wrapped {border: 1px dashed gray;margin: 0 0.4em 0.5em 0.4em;box-sizing: border-box;padding-bottom: 0.4em;background-color: white;}#sk-container-id-1 div.sk-label label {font-family: monospace;font-weight: bold;display: inline-block;line-height: 1.2em;}#sk-container-id-1 div.sk-label-container {text-align: center;}#sk-container-id-1 div.sk-container {/* jupyter's `normalize.less` sets `[hidden] { display: none; }` but bootstrap.min.css set `[hidden] { display: none !important; }` so we also need the `!important` here to be able to override the default hidden behavior on the sphinx rendered scikit-learn.org. See: https://github.com/scikit-learn/scikit-learn/issues/21755 */display: inline-block !important;position: relative;}#sk-container-id-1 div.sk-text-repr-fallback {display: none;}</style><div id=\"sk-container-id-1\" class=\"sk-top-container\"><div class=\"sk-text-repr-fallback\"><pre>GridSearchCV(cv=5, estimator=ElasticNet(),\n",
       "             param_grid={&#x27;alpha&#x27;: [0.1, 1, 5, 10, 50, 100],\n",
       "                         &#x27;l1_ratio&#x27;: [0.1, 0.5, 0.7, 0.9, 0.95, 0.99, 1]},\n",
       "             scoring=&#x27;neg_mean_squared_error&#x27;, verbose=1)</pre><b>In a Jupyter environment, please rerun this cell to show the HTML representation or trust the notebook. <br />On GitHub, the HTML representation is unable to render, please try loading this page with nbviewer.org.</b></div><div class=\"sk-container\" hidden><div class=\"sk-item sk-dashed-wrapped\"><div class=\"sk-label-container\"><div class=\"sk-label sk-toggleable\"><input class=\"sk-toggleable__control sk-hidden--visually\" id=\"sk-estimator-id-1\" type=\"checkbox\" ><label for=\"sk-estimator-id-1\" class=\"sk-toggleable__label sk-toggleable__label-arrow\">GridSearchCV</label><div class=\"sk-toggleable__content\"><pre>GridSearchCV(cv=5, estimator=ElasticNet(),\n",
       "             param_grid={&#x27;alpha&#x27;: [0.1, 1, 5, 10, 50, 100],\n",
       "                         &#x27;l1_ratio&#x27;: [0.1, 0.5, 0.7, 0.9, 0.95, 0.99, 1]},\n",
       "             scoring=&#x27;neg_mean_squared_error&#x27;, verbose=1)</pre></div></div></div><div class=\"sk-parallel\"><div class=\"sk-parallel-item\"><div class=\"sk-item\"><div class=\"sk-label-container\"><div class=\"sk-label sk-toggleable\"><input class=\"sk-toggleable__control sk-hidden--visually\" id=\"sk-estimator-id-2\" type=\"checkbox\" ><label for=\"sk-estimator-id-2\" class=\"sk-toggleable__label sk-toggleable__label-arrow\">estimator: ElasticNet</label><div class=\"sk-toggleable__content\"><pre>ElasticNet()</pre></div></div></div><div class=\"sk-serial\"><div class=\"sk-item\"><div class=\"sk-estimator sk-toggleable\"><input class=\"sk-toggleable__control sk-hidden--visually\" id=\"sk-estimator-id-3\" type=\"checkbox\" ><label for=\"sk-estimator-id-3\" class=\"sk-toggleable__label sk-toggleable__label-arrow\">ElasticNet</label><div class=\"sk-toggleable__content\"><pre>ElasticNet()</pre></div></div></div></div></div></div></div></div></div></div>"
      ],
      "text/plain": [
       "GridSearchCV(cv=5, estimator=ElasticNet(),\n",
       "             param_grid={'alpha': [0.1, 1, 5, 10, 50, 100],\n",
       "                         'l1_ratio': [0.1, 0.5, 0.7, 0.9, 0.95, 0.99, 1]},\n",
       "             scoring='neg_mean_squared_error', verbose=1)"
      ]
     },
     "execution_count": 134,
     "metadata": {},
     "output_type": "execute_result"
    }
   ],
   "source": [
    "grid_model.fit(scaled_X_train,y_train)"
   ]
  },
  {
   "cell_type": "code",
   "execution_count": 135,
   "id": "1932fb16",
   "metadata": {},
   "outputs": [
    {
     "data": {
      "text/plain": [
       "{'alpha': 10, 'l1_ratio': 1}"
      ]
     },
     "execution_count": 135,
     "metadata": {},
     "output_type": "execute_result"
    }
   ],
   "source": [
    "grid_model.best_params_"
   ]
  },
  {
   "cell_type": "code",
   "execution_count": 136,
   "id": "1d1e6ebe",
   "metadata": {},
   "outputs": [],
   "source": [
    "y_pred = grid_model.predict(scaled_X_test)"
   ]
  },
  {
   "cell_type": "code",
   "execution_count": 137,
   "id": "8b7009f4",
   "metadata": {},
   "outputs": [],
   "source": [
    "from sklearn.metrics import mean_absolute_error,mean_squared_error"
   ]
  },
  {
   "cell_type": "code",
   "execution_count": 138,
   "id": "809c246f",
   "metadata": {},
   "outputs": [
    {
     "data": {
      "text/plain": [
       "1644.7152749827094"
      ]
     },
     "execution_count": 138,
     "metadata": {},
     "output_type": "execute_result"
    }
   ],
   "source": [
    "mean_absolute_error(y_test,y_pred)"
   ]
  },
  {
   "cell_type": "code",
   "execution_count": 139,
   "id": "5c13215b",
   "metadata": {},
   "outputs": [
    {
     "data": {
      "text/plain": [
       "2248.032513905424"
      ]
     },
     "execution_count": 139,
     "metadata": {},
     "output_type": "execute_result"
    }
   ],
   "source": [
    "np.sqrt(mean_squared_error(y_test,y_pred))"
   ]
  },
  {
   "cell_type": "code",
   "execution_count": 140,
   "id": "9b4a6bc3",
   "metadata": {},
   "outputs": [
    {
     "data": {
      "text/plain": [
       "32265.05287392823"
      ]
     },
     "execution_count": 140,
     "metadata": {},
     "output_type": "execute_result"
    }
   ],
   "source": [
    "np.mean(price_train_final_df['Dealer_Listing_Price'])"
   ]
  },
  {
   "cell_type": "markdown",
   "id": "16379241",
   "metadata": {},
   "source": [
    " ## Test"
   ]
  },
  {
   "cell_type": "code",
   "execution_count": 141,
   "id": "8c18efa1",
   "metadata": {},
   "outputs": [],
   "source": [
    "stage = 'test'"
   ]
  },
  {
   "cell_type": "code",
   "execution_count": 142,
   "id": "bbed0cb7",
   "metadata": {},
   "outputs": [],
   "source": [
    "file_path_lists = set_filepath(stage)\n",
    "transform_final = file_path_lists[4]"
   ]
  },
  {
   "cell_type": "code",
   "execution_count": 143,
   "id": "986f91bd",
   "metadata": {},
   "outputs": [
    {
     "ename": "FileNotFoundError",
     "evalue": "[Errno 2] No such file or directory: 'data/final/test_final_clean.csv'",
     "output_type": "error",
     "traceback": [
      "\u001b[0;31m---------------------------------------------------------------------------\u001b[0m",
      "\u001b[0;31mFileNotFoundError\u001b[0m                         Traceback (most recent call last)",
      "Cell \u001b[0;32mIn[143], line 1\u001b[0m\n\u001b[0;32m----> 1\u001b[0m test_final_df \u001b[38;5;241m=\u001b[39m pd\u001b[38;5;241m.\u001b[39mread_csv(transform_final)\n",
      "File \u001b[0;32m/usr/local/anaconda3/lib/python3.11/site-packages/pandas/util/_decorators.py:211\u001b[0m, in \u001b[0;36mdeprecate_kwarg.<locals>._deprecate_kwarg.<locals>.wrapper\u001b[0;34m(*args, **kwargs)\u001b[0m\n\u001b[1;32m    209\u001b[0m     \u001b[38;5;28;01melse\u001b[39;00m:\n\u001b[1;32m    210\u001b[0m         kwargs[new_arg_name] \u001b[38;5;241m=\u001b[39m new_arg_value\n\u001b[0;32m--> 211\u001b[0m \u001b[38;5;28;01mreturn\u001b[39;00m func(\u001b[38;5;241m*\u001b[39margs, \u001b[38;5;241m*\u001b[39m\u001b[38;5;241m*\u001b[39mkwargs)\n",
      "File \u001b[0;32m/usr/local/anaconda3/lib/python3.11/site-packages/pandas/util/_decorators.py:331\u001b[0m, in \u001b[0;36mdeprecate_nonkeyword_arguments.<locals>.decorate.<locals>.wrapper\u001b[0;34m(*args, **kwargs)\u001b[0m\n\u001b[1;32m    325\u001b[0m \u001b[38;5;28;01mif\u001b[39;00m \u001b[38;5;28mlen\u001b[39m(args) \u001b[38;5;241m>\u001b[39m num_allow_args:\n\u001b[1;32m    326\u001b[0m     warnings\u001b[38;5;241m.\u001b[39mwarn(\n\u001b[1;32m    327\u001b[0m         msg\u001b[38;5;241m.\u001b[39mformat(arguments\u001b[38;5;241m=\u001b[39m_format_argument_list(allow_args)),\n\u001b[1;32m    328\u001b[0m         \u001b[38;5;167;01mFutureWarning\u001b[39;00m,\n\u001b[1;32m    329\u001b[0m         stacklevel\u001b[38;5;241m=\u001b[39mfind_stack_level(),\n\u001b[1;32m    330\u001b[0m     )\n\u001b[0;32m--> 331\u001b[0m \u001b[38;5;28;01mreturn\u001b[39;00m func(\u001b[38;5;241m*\u001b[39margs, \u001b[38;5;241m*\u001b[39m\u001b[38;5;241m*\u001b[39mkwargs)\n",
      "File \u001b[0;32m/usr/local/anaconda3/lib/python3.11/site-packages/pandas/io/parsers/readers.py:950\u001b[0m, in \u001b[0;36mread_csv\u001b[0;34m(filepath_or_buffer, sep, delimiter, header, names, index_col, usecols, squeeze, prefix, mangle_dupe_cols, dtype, engine, converters, true_values, false_values, skipinitialspace, skiprows, skipfooter, nrows, na_values, keep_default_na, na_filter, verbose, skip_blank_lines, parse_dates, infer_datetime_format, keep_date_col, date_parser, dayfirst, cache_dates, iterator, chunksize, compression, thousands, decimal, lineterminator, quotechar, quoting, doublequote, escapechar, comment, encoding, encoding_errors, dialect, error_bad_lines, warn_bad_lines, on_bad_lines, delim_whitespace, low_memory, memory_map, float_precision, storage_options)\u001b[0m\n\u001b[1;32m    935\u001b[0m kwds_defaults \u001b[38;5;241m=\u001b[39m _refine_defaults_read(\n\u001b[1;32m    936\u001b[0m     dialect,\n\u001b[1;32m    937\u001b[0m     delimiter,\n\u001b[0;32m   (...)\u001b[0m\n\u001b[1;32m    946\u001b[0m     defaults\u001b[38;5;241m=\u001b[39m{\u001b[38;5;124m\"\u001b[39m\u001b[38;5;124mdelimiter\u001b[39m\u001b[38;5;124m\"\u001b[39m: \u001b[38;5;124m\"\u001b[39m\u001b[38;5;124m,\u001b[39m\u001b[38;5;124m\"\u001b[39m},\n\u001b[1;32m    947\u001b[0m )\n\u001b[1;32m    948\u001b[0m kwds\u001b[38;5;241m.\u001b[39mupdate(kwds_defaults)\n\u001b[0;32m--> 950\u001b[0m \u001b[38;5;28;01mreturn\u001b[39;00m _read(filepath_or_buffer, kwds)\n",
      "File \u001b[0;32m/usr/local/anaconda3/lib/python3.11/site-packages/pandas/io/parsers/readers.py:605\u001b[0m, in \u001b[0;36m_read\u001b[0;34m(filepath_or_buffer, kwds)\u001b[0m\n\u001b[1;32m    602\u001b[0m _validate_names(kwds\u001b[38;5;241m.\u001b[39mget(\u001b[38;5;124m\"\u001b[39m\u001b[38;5;124mnames\u001b[39m\u001b[38;5;124m\"\u001b[39m, \u001b[38;5;28;01mNone\u001b[39;00m))\n\u001b[1;32m    604\u001b[0m \u001b[38;5;66;03m# Create the parser.\u001b[39;00m\n\u001b[0;32m--> 605\u001b[0m parser \u001b[38;5;241m=\u001b[39m TextFileReader(filepath_or_buffer, \u001b[38;5;241m*\u001b[39m\u001b[38;5;241m*\u001b[39mkwds)\n\u001b[1;32m    607\u001b[0m \u001b[38;5;28;01mif\u001b[39;00m chunksize \u001b[38;5;129;01mor\u001b[39;00m iterator:\n\u001b[1;32m    608\u001b[0m     \u001b[38;5;28;01mreturn\u001b[39;00m parser\n",
      "File \u001b[0;32m/usr/local/anaconda3/lib/python3.11/site-packages/pandas/io/parsers/readers.py:1442\u001b[0m, in \u001b[0;36mTextFileReader.__init__\u001b[0;34m(self, f, engine, **kwds)\u001b[0m\n\u001b[1;32m   1439\u001b[0m     \u001b[38;5;28mself\u001b[39m\u001b[38;5;241m.\u001b[39moptions[\u001b[38;5;124m\"\u001b[39m\u001b[38;5;124mhas_index_names\u001b[39m\u001b[38;5;124m\"\u001b[39m] \u001b[38;5;241m=\u001b[39m kwds[\u001b[38;5;124m\"\u001b[39m\u001b[38;5;124mhas_index_names\u001b[39m\u001b[38;5;124m\"\u001b[39m]\n\u001b[1;32m   1441\u001b[0m \u001b[38;5;28mself\u001b[39m\u001b[38;5;241m.\u001b[39mhandles: IOHandles \u001b[38;5;241m|\u001b[39m \u001b[38;5;28;01mNone\u001b[39;00m \u001b[38;5;241m=\u001b[39m \u001b[38;5;28;01mNone\u001b[39;00m\n\u001b[0;32m-> 1442\u001b[0m \u001b[38;5;28mself\u001b[39m\u001b[38;5;241m.\u001b[39m_engine \u001b[38;5;241m=\u001b[39m \u001b[38;5;28mself\u001b[39m\u001b[38;5;241m.\u001b[39m_make_engine(f, \u001b[38;5;28mself\u001b[39m\u001b[38;5;241m.\u001b[39mengine)\n",
      "File \u001b[0;32m/usr/local/anaconda3/lib/python3.11/site-packages/pandas/io/parsers/readers.py:1735\u001b[0m, in \u001b[0;36mTextFileReader._make_engine\u001b[0;34m(self, f, engine)\u001b[0m\n\u001b[1;32m   1733\u001b[0m     \u001b[38;5;28;01mif\u001b[39;00m \u001b[38;5;124m\"\u001b[39m\u001b[38;5;124mb\u001b[39m\u001b[38;5;124m\"\u001b[39m \u001b[38;5;129;01mnot\u001b[39;00m \u001b[38;5;129;01min\u001b[39;00m mode:\n\u001b[1;32m   1734\u001b[0m         mode \u001b[38;5;241m+\u001b[39m\u001b[38;5;241m=\u001b[39m \u001b[38;5;124m\"\u001b[39m\u001b[38;5;124mb\u001b[39m\u001b[38;5;124m\"\u001b[39m\n\u001b[0;32m-> 1735\u001b[0m \u001b[38;5;28mself\u001b[39m\u001b[38;5;241m.\u001b[39mhandles \u001b[38;5;241m=\u001b[39m get_handle(\n\u001b[1;32m   1736\u001b[0m     f,\n\u001b[1;32m   1737\u001b[0m     mode,\n\u001b[1;32m   1738\u001b[0m     encoding\u001b[38;5;241m=\u001b[39m\u001b[38;5;28mself\u001b[39m\u001b[38;5;241m.\u001b[39moptions\u001b[38;5;241m.\u001b[39mget(\u001b[38;5;124m\"\u001b[39m\u001b[38;5;124mencoding\u001b[39m\u001b[38;5;124m\"\u001b[39m, \u001b[38;5;28;01mNone\u001b[39;00m),\n\u001b[1;32m   1739\u001b[0m     compression\u001b[38;5;241m=\u001b[39m\u001b[38;5;28mself\u001b[39m\u001b[38;5;241m.\u001b[39moptions\u001b[38;5;241m.\u001b[39mget(\u001b[38;5;124m\"\u001b[39m\u001b[38;5;124mcompression\u001b[39m\u001b[38;5;124m\"\u001b[39m, \u001b[38;5;28;01mNone\u001b[39;00m),\n\u001b[1;32m   1740\u001b[0m     memory_map\u001b[38;5;241m=\u001b[39m\u001b[38;5;28mself\u001b[39m\u001b[38;5;241m.\u001b[39moptions\u001b[38;5;241m.\u001b[39mget(\u001b[38;5;124m\"\u001b[39m\u001b[38;5;124mmemory_map\u001b[39m\u001b[38;5;124m\"\u001b[39m, \u001b[38;5;28;01mFalse\u001b[39;00m),\n\u001b[1;32m   1741\u001b[0m     is_text\u001b[38;5;241m=\u001b[39mis_text,\n\u001b[1;32m   1742\u001b[0m     errors\u001b[38;5;241m=\u001b[39m\u001b[38;5;28mself\u001b[39m\u001b[38;5;241m.\u001b[39moptions\u001b[38;5;241m.\u001b[39mget(\u001b[38;5;124m\"\u001b[39m\u001b[38;5;124mencoding_errors\u001b[39m\u001b[38;5;124m\"\u001b[39m, \u001b[38;5;124m\"\u001b[39m\u001b[38;5;124mstrict\u001b[39m\u001b[38;5;124m\"\u001b[39m),\n\u001b[1;32m   1743\u001b[0m     storage_options\u001b[38;5;241m=\u001b[39m\u001b[38;5;28mself\u001b[39m\u001b[38;5;241m.\u001b[39moptions\u001b[38;5;241m.\u001b[39mget(\u001b[38;5;124m\"\u001b[39m\u001b[38;5;124mstorage_options\u001b[39m\u001b[38;5;124m\"\u001b[39m, \u001b[38;5;28;01mNone\u001b[39;00m),\n\u001b[1;32m   1744\u001b[0m )\n\u001b[1;32m   1745\u001b[0m \u001b[38;5;28;01massert\u001b[39;00m \u001b[38;5;28mself\u001b[39m\u001b[38;5;241m.\u001b[39mhandles \u001b[38;5;129;01mis\u001b[39;00m \u001b[38;5;129;01mnot\u001b[39;00m \u001b[38;5;28;01mNone\u001b[39;00m\n\u001b[1;32m   1746\u001b[0m f \u001b[38;5;241m=\u001b[39m \u001b[38;5;28mself\u001b[39m\u001b[38;5;241m.\u001b[39mhandles\u001b[38;5;241m.\u001b[39mhandle\n",
      "File \u001b[0;32m/usr/local/anaconda3/lib/python3.11/site-packages/pandas/io/common.py:856\u001b[0m, in \u001b[0;36mget_handle\u001b[0;34m(path_or_buf, mode, encoding, compression, memory_map, is_text, errors, storage_options)\u001b[0m\n\u001b[1;32m    851\u001b[0m \u001b[38;5;28;01melif\u001b[39;00m \u001b[38;5;28misinstance\u001b[39m(handle, \u001b[38;5;28mstr\u001b[39m):\n\u001b[1;32m    852\u001b[0m     \u001b[38;5;66;03m# Check whether the filename is to be opened in binary mode.\u001b[39;00m\n\u001b[1;32m    853\u001b[0m     \u001b[38;5;66;03m# Binary mode does not support 'encoding' and 'newline'.\u001b[39;00m\n\u001b[1;32m    854\u001b[0m     \u001b[38;5;28;01mif\u001b[39;00m ioargs\u001b[38;5;241m.\u001b[39mencoding \u001b[38;5;129;01mand\u001b[39;00m \u001b[38;5;124m\"\u001b[39m\u001b[38;5;124mb\u001b[39m\u001b[38;5;124m\"\u001b[39m \u001b[38;5;129;01mnot\u001b[39;00m \u001b[38;5;129;01min\u001b[39;00m ioargs\u001b[38;5;241m.\u001b[39mmode:\n\u001b[1;32m    855\u001b[0m         \u001b[38;5;66;03m# Encoding\u001b[39;00m\n\u001b[0;32m--> 856\u001b[0m         handle \u001b[38;5;241m=\u001b[39m \u001b[38;5;28mopen\u001b[39m(\n\u001b[1;32m    857\u001b[0m             handle,\n\u001b[1;32m    858\u001b[0m             ioargs\u001b[38;5;241m.\u001b[39mmode,\n\u001b[1;32m    859\u001b[0m             encoding\u001b[38;5;241m=\u001b[39mioargs\u001b[38;5;241m.\u001b[39mencoding,\n\u001b[1;32m    860\u001b[0m             errors\u001b[38;5;241m=\u001b[39merrors,\n\u001b[1;32m    861\u001b[0m             newline\u001b[38;5;241m=\u001b[39m\u001b[38;5;124m\"\u001b[39m\u001b[38;5;124m\"\u001b[39m,\n\u001b[1;32m    862\u001b[0m         )\n\u001b[1;32m    863\u001b[0m     \u001b[38;5;28;01melse\u001b[39;00m:\n\u001b[1;32m    864\u001b[0m         \u001b[38;5;66;03m# Binary mode\u001b[39;00m\n\u001b[1;32m    865\u001b[0m         handle \u001b[38;5;241m=\u001b[39m \u001b[38;5;28mopen\u001b[39m(handle, ioargs\u001b[38;5;241m.\u001b[39mmode)\n",
      "\u001b[0;31mFileNotFoundError\u001b[0m: [Errno 2] No such file or directory: 'data/final/test_final_clean.csv'"
     ]
    }
   ],
   "source": [
    "test_final_df = pd.read_csv(transform_final)"
   ]
  },
  {
   "cell_type": "code",
   "execution_count": 70,
   "id": "93fea979",
   "metadata": {},
   "outputs": [
    {
     "data": {
      "text/plain": [
       "Index(['VehListdays', 'VehMileage', 'VehYear', 'ListingID', 'VehEngine',\n",
       "       'SellerListSrc', 'SellerState', 'VehFuel', 'VehColorExt', 'VehColorInt',\n",
       "       'VehTransmission', 'VehPriceLabel', 'VehDriveTrain', 'VehMake',\n",
       "       'VehModel', 'RatingCategory', 'SellerCategory', 'SellerIsPriv',\n",
       "       'SourceCategory', 'VehCertified'],\n",
       "      dtype='object')"
      ]
     },
     "execution_count": 70,
     "metadata": {},
     "output_type": "execute_result"
    }
   ],
   "source": [
    "test_final_df.columns"
   ]
  },
  {
   "cell_type": "code",
   "execution_count": 71,
   "id": "ab7cc80b",
   "metadata": {},
   "outputs": [],
   "source": [
    "X_test_final = pd.get_dummies(test_final_df, drop_first=True)"
   ]
  },
  {
   "cell_type": "code",
   "execution_count": 72,
   "id": "d0481a3c",
   "metadata": {},
   "outputs": [],
   "source": [
    "# Cross check and recon the columns\n",
    "missing_cols = set(X_train_clean.columns) - set(X_test_final.columns)\n",
    "for col in missing_cols:\n",
    "    X_test_final[col] = 0"
   ]
  },
  {
   "cell_type": "code",
   "execution_count": 73,
   "id": "35abf7cd",
   "metadata": {},
   "outputs": [
    {
     "name": "stdout",
     "output_type": "stream",
     "text": [
      "<class 'pandas.core.frame.DataFrame'>\n",
      "RangeIndex: 1000 entries, 0 to 999\n",
      "Columns: 123 entries, VehListdays to VehFuel_unknown\n",
      "dtypes: bool(2), float64(2), int64(22), uint8(97)\n",
      "memory usage: 284.3 KB\n"
     ]
    }
   ],
   "source": [
    "X_test_final.info()"
   ]
  },
  {
   "cell_type": "code",
   "execution_count": 74,
   "id": "e8a1530d",
   "metadata": {},
   "outputs": [],
   "source": [
    "X_test_final = X_test_final[X_train_clean.columns]"
   ]
  },
  {
   "cell_type": "code",
   "execution_count": 75,
   "id": "8b732f19",
   "metadata": {},
   "outputs": [],
   "source": [
    "scaled_X_test_final = scaler.transform(X_test_final)"
   ]
  },
  {
   "cell_type": "code",
   "execution_count": 76,
   "id": "0be40de3",
   "metadata": {},
   "outputs": [],
   "source": [
    "predictions = grid_model.predict(scaled_X_test_final)"
   ]
  },
  {
   "cell_type": "code",
   "execution_count": 77,
   "id": "b5ce4cb6",
   "metadata": {},
   "outputs": [],
   "source": [
    "report_df = pd.read_csv('data/report/report.csv')"
   ]
  },
  {
   "cell_type": "code",
   "execution_count": 78,
   "id": "7dbbcffb",
   "metadata": {},
   "outputs": [],
   "source": [
    "report_df['Dealer_Listing_Price'] = predictions"
   ]
  },
  {
   "cell_type": "code",
   "execution_count": 79,
   "id": "fa76112c",
   "metadata": {},
   "outputs": [],
   "source": [
    "report_df.to_csv('report.csv', index=False)"
   ]
  },
  {
   "cell_type": "code",
   "execution_count": 80,
   "id": "297a4809",
   "metadata": {},
   "outputs": [
    {
     "data": {
      "text/html": [
       "<div>\n",
       "<style scoped>\n",
       "    .dataframe tbody tr th:only-of-type {\n",
       "        vertical-align: middle;\n",
       "    }\n",
       "\n",
       "    .dataframe tbody tr th {\n",
       "        vertical-align: top;\n",
       "    }\n",
       "\n",
       "    .dataframe thead th {\n",
       "        text-align: right;\n",
       "    }\n",
       "</style>\n",
       "<table border=\"1\" class=\"dataframe\">\n",
       "  <thead>\n",
       "    <tr style=\"text-align: right;\">\n",
       "      <th></th>\n",
       "      <th>ListingID</th>\n",
       "      <th>Vehicle_Trim</th>\n",
       "      <th>Dealer_Listing_Price</th>\n",
       "    </tr>\n",
       "  </thead>\n",
       "  <tbody>\n",
       "    <tr>\n",
       "      <th>0</th>\n",
       "      <td>8622015</td>\n",
       "      <td>FWD</td>\n",
       "      <td>34368.255796</td>\n",
       "    </tr>\n",
       "    <tr>\n",
       "      <th>1</th>\n",
       "      <td>8625693</td>\n",
       "      <td>Limited</td>\n",
       "      <td>26989.157438</td>\n",
       "    </tr>\n",
       "    <tr>\n",
       "      <th>2</th>\n",
       "      <td>8625750</td>\n",
       "      <td>Limited</td>\n",
       "      <td>19956.414154</td>\n",
       "    </tr>\n",
       "    <tr>\n",
       "      <th>3</th>\n",
       "      <td>8626885</td>\n",
       "      <td>Limited</td>\n",
       "      <td>23242.270791</td>\n",
       "    </tr>\n",
       "    <tr>\n",
       "      <th>4</th>\n",
       "      <td>8627430</td>\n",
       "      <td>Luxury</td>\n",
       "      <td>35480.710098</td>\n",
       "    </tr>\n",
       "  </tbody>\n",
       "</table>\n",
       "</div>"
      ],
      "text/plain": [
       "   ListingID Vehicle_Trim  Dealer_Listing_Price\n",
       "0    8622015          FWD          34368.255796\n",
       "1    8625693      Limited          26989.157438\n",
       "2    8625750      Limited          19956.414154\n",
       "3    8626885      Limited          23242.270791\n",
       "4    8627430       Luxury          35480.710098"
      ]
     },
     "execution_count": 80,
     "metadata": {},
     "output_type": "execute_result"
    }
   ],
   "source": [
    "report_df.head()"
   ]
  },
  {
   "cell_type": "code",
   "execution_count": null,
   "id": "e606735a",
   "metadata": {},
   "outputs": [],
   "source": []
  }
 ],
 "metadata": {
  "kernelspec": {
   "display_name": "Python 3 (ipykernel)",
   "language": "python",
   "name": "python3"
  },
  "language_info": {
   "codemirror_mode": {
    "name": "ipython",
    "version": 3
   },
   "file_extension": ".py",
   "mimetype": "text/x-python",
   "name": "python",
   "nbconvert_exporter": "python",
   "pygments_lexer": "ipython3",
   "version": "3.11.4"
  }
 },
 "nbformat": 4,
 "nbformat_minor": 5
}
